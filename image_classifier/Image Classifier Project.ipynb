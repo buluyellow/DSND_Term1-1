{
 "cells": [
  {
   "cell_type": "markdown",
   "metadata": {},
   "source": [
    "# Developing an AI application (orig)\n",
    "\n",
    "Going forward, AI algorithms will be incorporated into more and more everyday applications. For example, you might want to include an image classifier in a smart phone app. To do this, you'd use a deep learning model trained on hundreds of thousands of images as part of the overall application architecture. A large part of software development in the future will be using these types of models as common parts of applications. \n",
    "\n",
    "In this project, you'll train an image classifier to recognize different species of flowers. You can imagine using something like this in a phone app that tells you the name of the flower your camera is looking at. In practice you'd train this classifier, then export it for use in your application. We'll be using [this dataset](http://www.robots.ox.ac.uk/~vgg/data/flowers/102/index.html) of 102 flower categories, you can see a few examples below. \n",
    "\n",
    "<img src='assets/Flowers.png' width=500px>\n",
    "\n",
    "The project is broken down into multiple steps:\n",
    "\n",
    "* Load and preprocess the image dataset\n",
    "* Train the image classifier on your dataset\n",
    "* Use the trained classifier to predict image content\n",
    "\n",
    "We'll lead you through each part which you'll implement in Python.\n",
    "\n",
    "When you've completed this project, you'll have an application that can be trained on any set of labeled images. Here your network will be learning about flowers and end up as a command line application. But, what you do with your new skills depends on your imagination and effort in building a dataset. For example, imagine an app where you take a picture of a car, it tells you what the make and model is, then looks up information about it. Go build your own dataset and make something new.\n",
    "\n",
    "First up is importing the packages you'll need. It's good practice to keep all the imports at the beginning of your code. As you work through this notebook and find you need to import a package, make sure to add the import up here."
   ]
  },
  {
   "cell_type": "code",
   "execution_count": null,
   "metadata": {},
   "outputs": [],
   "source": [
    "from __future__ import print_function, division\n",
    "from collections import OrderedDict\n",
    "import json\n",
    "import matplotlib.pyplot as plt\n",
    "import numpy as np\n",
    "\n",
    "import os\n",
    "from PIL import Image\n",
    "import requests\n",
    "import tarfile\n",
    "import torch\n",
    "from torch import nn, optim\n",
    "import torch.nn.functional as F\n",
    "\n",
    "from torchvision import datasets, transforms, models\n",
    "from tqdm import tqdm as tqdm\n",
    "%matplotlib inline"
   ]
  },
  {
   "cell_type": "markdown",
   "metadata": {},
   "source": [
    "## Load the data\n",
    "\n",
    "Here you'll use `torchvision` to load the data ([documentation](http://pytorch.org/docs/0.3.0/torchvision/index.html)). The data should be included alongside this notebook, otherwise you can [download it here](https://s3.amazonaws.com/content.udacity-data.com/nd089/flower_data.tar.gz). The dataset is split into three parts, training, validation, and testing. For the training, you'll want to apply transformations such as random scaling, cropping, and flipping. This will help the network generalize leading to better performance. You'll also need to make sure the input data is resized to 224x224 pixels as required by the pre-trained networks.\n",
    "\n",
    "The validation and testing sets are used to measure the model's performance on data it hasn't seen yet. For this you don't want any scaling or rotation transformations, but you'll need to resize then crop the images to the appropriate size.\n",
    "\n",
    "The pre-trained networks you'll use were trained on the ImageNet dataset where each color channel was normalized separately. For all three sets you'll need to normalize the means and standard deviations of the images to what the network expects. For the means, it's `[0.485, 0.456, 0.406]` and for the standard deviations `[0.229, 0.224, 0.225]`, calculated from the ImageNet images.  These values will shift each color channel to be centered at 0 and range from -1 to 1.\n",
    " "
   ]
  },
  {
   "cell_type": "markdown",
   "metadata": {},
   "source": [
    "### File utilities\n",
    "Download the training data and exand it into the data directory"
   ]
  },
  {
   "cell_type": "code",
   "execution_count": null,
   "metadata": {},
   "outputs": [],
   "source": [
    "def download_file(data_url, dest_dir='./'):\n",
    "    fn = os.path.join(data_dir, os.path.split(data_url)[-1])\n",
    "    r = requests.get(data_url, stream=True)\n",
    "    size = int(r.headers.get('Content-Length',0))\n",
    "\n",
    "    with open(fn, 'wb') as f:\n",
    "        with tqdm(total=size, unit = 'B', unit_scale=True) as t:\n",
    "            for chunk in r.iter_content(1024):\n",
    "                if chunk:\n",
    "                    f.write(chunk)\n",
    "                    t.update(len(chunk))\n",
    "    return fn\n",
    "\n",
    "def get_data(url, data_dir, train_dirname = '/train'):\n",
    "    train_dir = data_dir + train_dirname\n",
    "    if os.path.exists(train_dir):\n",
    "        return\n",
    "    elif not os.path.exists(data_dir):\n",
    "        os.makedirs(data_dir)\n",
    "    fn = download_file(url)\n",
    "    with tarfile.open(fn) as tar:\n",
    "        tar.extractall(path=data_dir)\n",
    "    if os.path.isfile(fn): os.remove(fn)"
   ]
  },
  {
   "cell_type": "markdown",
   "metadata": {},
   "source": [
    "### Dataset download and extract\n",
    "Downloads the dataset (already structured into directories as required) in a tar.gz file and extracts it into the appropriate directory, ready for training, validation and testing."
   ]
  },
  {
   "cell_type": "code",
   "execution_count": null,
   "metadata": {},
   "outputs": [],
   "source": [
    "data_url = 'https://s3.amazonaws.com/content.udacity-data.com/nd089/flower_data.tar.gz'\n",
    "data_dir = 'flowers'\n",
    "train_dir = data_dir + '/train'\n",
    "valid_dir = data_dir + '/valid'\n",
    "test_dir = data_dir + '/test'\n",
    "\n",
    "# Download flower data\n",
    "get_data(data_url, data_dir)"
   ]
  },
  {
   "cell_type": "markdown",
   "metadata": {},
   "source": [
    "### Transformations and loading\n",
    "\n",
    "* data transforms, conversion to tensor and normalization\n",
    "* Use ImageFolder and transform to create datasets for training, validation and testing\n",
    "* Create dataloaders from the datasets\n",
    "\n",
    "_Note: This notebook is using the inception v3 model requires a slightly different input image size from most of the other models in the pyTorch model zoo._"
   ]
  },
  {
   "cell_type": "code",
   "execution_count": null,
   "metadata": {},
   "outputs": [],
   "source": [
    "# Define your transforms for the training, validation, and testing sets\n",
    "data_transforms = {\n",
    "    'train': transforms.Compose([\n",
    "        transforms.RandomRotation(30),\n",
    "        #transforms.RandomResizedCrop(224),  # not inception\n",
    "        transforms.RandomResizedCrop(299),  # inception\n",
    "        transforms.RandomHorizontalFlip(),\n",
    "        transforms.ToTensor(),\n",
    "        transforms.Normalize([0.485, 0.456, 0.406],\n",
    "                             [0.229, 0.224, 0.225])\n",
    "    ]),\n",
    "    'valid': transforms.Compose([\n",
    "        #transforms.Resize(256),     # not inception\n",
    "        #transforms.CenterCrop(224), # not inception\n",
    "        transforms.Resize(331),      # inception\n",
    "        transforms.CenterCrop(299),  # inception\n",
    "        transforms.ToTensor(),\n",
    "        transforms.Normalize([0.485, 0.456, 0.406],\n",
    "                             [0.229, 0.224, 0.225])\n",
    "    ]),\n",
    "    'test': transforms.Compose([\n",
    "        #transforms.Resize(256),       # not inception\n",
    "        #transforms.CenterCrop(224),  # not inception\n",
    "        transforms.Resize(331),      # inception\n",
    "        transforms.CenterCrop(299),  # inception\n",
    "        transforms.ToTensor(),\n",
    "        transforms.Normalize([0.485, 0.456, 0.406],\n",
    "                             [0.229, 0.224, 0.225])\n",
    "    ])\n",
    "}\n",
    "# Load the datasets with ImageFolder\n",
    "image_datasets = {\n",
    "    'train' : datasets.ImageFolder(\n",
    "        train_dir, transform=data_transforms['train']),\n",
    "    'valid' : datasets.ImageFolder(\n",
    "        valid_dir, transform=data_transforms['valid']),\n",
    "    'test' : datasets.ImageFolder(\n",
    "        test_dir, transform=data_transforms['test'])\n",
    "}\n",
    "# Using the image datasets and the trainforms, define the dataloaders\n",
    "dataloaders = {\n",
    "    'train' : torch.utils.data.DataLoader(\n",
    "        image_datasets['train'], batch_size=64, shuffle=True),\n",
    "    'valid' : torch.utils.data.DataLoader(\n",
    "        image_datasets['valid'], batch_size=64, shuffle=True),\n",
    "    'test' : torch.utils.data.DataLoader(\n",
    "        image_datasets['test'], batch_size=64, shuffle=True)\n",
    "}"
   ]
  },
  {
   "cell_type": "markdown",
   "metadata": {},
   "source": [
    "### Label mapping\n",
    "\n",
    "You'll also need to load in a mapping from category label to category name. You can find this in the file `cat_to_name.json`. It's a JSON object which you can read in with the [`json` module](https://docs.python.org/2/library/json.html). This will give you a dictionary mapping the integer encoded categories to the actual names of the flowers."
   ]
  },
  {
   "cell_type": "code",
   "execution_count": null,
   "metadata": {},
   "outputs": [],
   "source": [
    "with open('cat_to_name.json', 'r') as f:\n",
    "    cat_to_name = json.load(f)"
   ]
  },
  {
   "cell_type": "markdown",
   "metadata": {},
   "source": [
    "# Building and training the classifier\n",
    "\n",
    "Now that the data is ready, it's time to build and train the classifier. As usual, you should use one of the pretrained models from `torchvision.models` to get the image features. Build and train a new feed-forward classifier using those features.\n",
    "\n",
    "We're going to leave this part up to you. If you want to talk through it with someone, chat with your fellow students! You can also ask questions on the forums or join the instructors in office hours.\n",
    "\n",
    "Refer to [the rubric](https://review.udacity.com/#!/rubrics/1663/view) for guidance on successfully completing this section. Things you'll need to do:\n",
    "\n",
    "1. Load a [pre-trained network](http://pytorch.org/docs/master/torchvision/models.html) (If you need a starting point, the VGG networks work great and are straightforward to use)\n",
    "1. Define a new, untrained feed-forward network as a classifier, using ReLU activations and dropout\n",
    "1. Train the classifier layers using backpropagation using the pre-trained network to get the features\n",
    "1. Track the loss and accuracy on the validation set to determine the best hyperparameters\n",
    "\n",
    "We've left a cell open for you below, but use as many as you need. Our advice is to break the problem up into smaller parts you can run separately. Check that each part is doing what you expect, then move on to the next. You'll likely find that as you work through each part, you'll need to go back and modify your previous code. This is totally normal!\n",
    "\n",
    "When training make sure you're updating only the weights of the feed-forward network. You should be able to get the validation accuracy above 70% if you build everything right. Make sure to try different hyperparameters (learning rate, units in the classifier, epochs, etc) to find the best model. Save those hyperparameters to use as default values in the next part of the project."
   ]
  },
  {
   "cell_type": "markdown",
   "metadata": {},
   "source": [
    "## Define new network\n",
    "Create new network that refines the Inception v3 pre-trained network to extract features from the images."
   ]
  },
  {
   "cell_type": "code",
   "execution_count": null,
   "metadata": {},
   "outputs": [],
   "source": [
    "class NewModel(nn.Module):\n",
    "    def __init__(self, n_classes):\n",
    "        super(NewModel, self).__init__()\n",
    "        \n",
    "        ### Inception v3 based refined model\n",
    "        pt_model = models.inception_v3(pretrained=True)\n",
    "        pt_model.aux_logits=False\n",
    "        \n",
    "        # Freeze parameters\n",
    "        for p in pt_model.parameters():\n",
    "            p.requires_grad = False\n",
    "        \n",
    "        # New feed forward network as classifier\n",
    "        # Trying one FC layer...do more make it better?\n",
    "        in_features = pt_model.fc.in_features\n",
    "        h_units = in_features\n",
    "        self.classifier = nn.Sequential(OrderedDict([\n",
    "            ('fc0', nn.Linear(in_features, 1024)),\n",
    "            ('relu0', nn.ReLU()),\n",
    "            ('drop0', nn.Dropout(.5)),\n",
    "            ('fc', nn.Linear(1024, n_classes))\n",
    "        ]))\n",
    "        # replace the last fc layer with the classifier\n",
    "        pt_model.fc = self.classifier\n",
    "        self.model = pt_model\n",
    "        \n",
    "    def forward(self, x):\n",
    "        return self.model(x)"
   ]
  },
  {
   "cell_type": "markdown",
   "metadata": {},
   "source": [
    "## PyTorch Primer \n",
    "**(aka. stuff I wish I knew and/or remembered, but wasted a LOT of time on!)**\n",
    "\n",
    "I'd never used PyTorth prior to the nanodegree, and I found myself struggling to do relatively simple operations due to the way that it handles Tensor operations (aka. type issues).   Hopefully the following simple list of functions and hints I found useful will help the next person so they can spend fewer hours and have less headaches trying to do 'simple' things (and get on with doing some transfer learning).\n",
    "\n",
    "** HINTS ** (and easy oversights)\n",
    "* Take extra care with device: it matters where your tensors are!\n",
    "\n",
    "** Operations **\n",
    "* .float, .int, .add, .sub, .mul, and .div have inplace versions with a trailing \"\\_\" (E.g. \".add\" becomes \".add_\")\n",
    "* .eq (NOT .equal): eq checks if elements are the same, equal checks if the whole tensor is the same\n",
    "* .topk: gets the k largest and smallest \n",
    "** Manipulations **\n",
    "* .view: reshape a tensor, # of elements is the unchanged (hint: use -1 for the size and it'll be inferred...if possible)\n",
    "* .expand, .expand_as: creates a new view with singleton dims expanded\n",
    "* .size: Gets the size of the tensor\n",
    "* .transpose, .t: .t assumes dim 0 and 1 are transposed, and it's LOWER CASE\n",
    "\n",
    "## Helpers\n",
    "\n",
    "Some handy code for the application."
   ]
  },
  {
   "cell_type": "code",
   "execution_count": null,
   "metadata": {},
   "outputs": [],
   "source": [
    "def accuracy_score (output, target, top_k=(1,)):\n",
    "    max_k = max(top_k)\n",
    "    n_batch = target.size(0)\n",
    "    \n",
    "    _, preds = output.topk(max_k, 1, True, True)\n",
    "    preds = preds.transpose(0,1)\n",
    "    correct = preds.eq(target.view(1, -1).expand(preds.size()))\n",
    "    \n",
    "    retval = []\n",
    "    for k in top_k:\n",
    "        correct_k = correct[:k].view(-1).float().sum(0)\n",
    "        retval.append(correct_k.mul_(100.0 / n_batch))\n",
    "        \n",
    "    return retval"
   ]
  },
  {
   "cell_type": "code",
   "execution_count": null,
   "metadata": {},
   "outputs": [],
   "source": [
    "class ValueCache(object):\n",
    "    '''Used to stored/calc the values'''\n",
    "    def __init__(self):\n",
    "        self.reset()\n",
    "    \n",
    "    def reset(self):\n",
    "        self.value = 0.0\n",
    "        self.sum = 0.0\n",
    "        self.count = 0\n",
    "        self.mean = 0.0\n",
    "    \n",
    "    def update(self, value, n=1):\n",
    "        self.value = value\n",
    "        self.sum += value * n\n",
    "        self.count += n\n",
    "        self.mean = self.sum/self.count"
   ]
  },
  {
   "cell_type": "code",
   "execution_count": null,
   "metadata": {},
   "outputs": [],
   "source": [
    "def get_postfix(losses, accuracy, action='Training'):\n",
    "    return ('{act} Loss {loss.value:.4f} (avg:{loss.mean:.4f})\\t{act} Accuracy: {acc.value:.4f}(avg:{acc.mean:.4f})'\n",
    "            .format(loss=losses, acc=accuracy, act=action))"
   ]
  },
  {
   "cell_type": "code",
   "execution_count": null,
   "metadata": {},
   "outputs": [],
   "source": [
    "# Save the checkpoint\n",
    "def save_checkpoint(model, filename='./checkpoint.pth'):\n",
    "    model_state = {\n",
    "    'epoch': model.epoch,\n",
    "    'state_dict': model.state_dict(),\n",
    "    'optimizer_state_dict': model.optimizer_state,\n",
    "    'best_acc': model.best_acc,\n",
    "    'class_to_idx': model.class_to_idx,\n",
    "    'n_classes': model.n_classes,\n",
    "    }\n",
    "    \n",
    "    torch.save(model_state, filename)"
   ]
  },
  {
   "cell_type": "markdown",
   "metadata": {},
   "source": [
    "## Model training and validation"
   ]
  },
  {
   "cell_type": "code",
   "execution_count": null,
   "metadata": {},
   "outputs": [],
   "source": [
    "def train(model, train_loader, criterion, optimizer, epoch=1, device='cpu'):\n",
    "    print_freq = 4\n",
    "    losses = ValueCache()\n",
    "    acc = ValueCache()\n",
    "    # training state\n",
    "    model.to(device)\n",
    "    model.train()\n",
    "    # wrap this in tqdm to get a progress bar and updates\n",
    "    with tqdm(train_loader, unit='batch', postfix=None) as t:\n",
    "        for i, (images, labels) in enumerate(t):\n",
    "            images, labels = images.to(device), labels.to(device)\n",
    "            # Forward\n",
    "            output = model(images)\n",
    "            loss = criterion(output, labels)\n",
    "            \n",
    "            # cache the accuracy and loss\n",
    "            losses.update(loss.item(), images.size(0))\n",
    "            accuracy = accuracy_score(output.data, labels)\n",
    "            acc.update(accuracy[0], images.size(0))\n",
    "            \n",
    "            # Backward\n",
    "            optimizer.zero_grad()\n",
    "            loss.backward()\n",
    "            optimizer.step()\n",
    "            \n",
    "            if i % print_freq == (print_freq - 1):\n",
    "                t.postfix = get_postfix(losses, acc)\n",
    "                t.update()\n",
    "    pass"
   ]
  },
  {
   "cell_type": "code",
   "execution_count": null,
   "metadata": {},
   "outputs": [],
   "source": [
    "def validate(model, valid_loader, criterion, device='cpu', action='Validation'):\n",
    "    print_freq = 4\n",
    "    losses = ValueCache()\n",
    "    acc = ValueCache()\n",
    "    # eval state\n",
    "    model.to(device)\n",
    "    model.eval()\n",
    "    with tqdm(valid_loader, unit='batch', postfix=None) as t:\n",
    "        for i, (images, labels) in enumerate(t):\n",
    "            images, labels = images.to(device), labels.to(device)\n",
    "            # Forward\n",
    "            output = model(images)\n",
    "            loss = criterion(output, labels)\n",
    "\n",
    "            # cache the accuracy and loss\n",
    "            losses.update(loss.item(), images.size(0))\n",
    "            acc.update(accuracy_score(output.data, labels)[0], images.size(0))\n",
    "            \n",
    "            if i % print_freq == (print_freq-1):\n",
    "                t.postfix = get_postfix(losses, acc, action)\n",
    "    return acc.mean"
   ]
  },
  {
   "cell_type": "code",
   "execution_count": null,
   "metadata": {},
   "outputs": [],
   "source": [
    "### Main program Start\n",
    "if torch.cuda.is_available():\n",
    "    device = 'cuda'\n",
    "else: \n",
    "    device = 'cpu'\n",
    "# Create an instance of the new model\n",
    "n_classes = len(datasets.folder.find_classes(train_dir)[0])\n",
    "model = NewModel(n_classes=n_classes)\n",
    "model.n_classes = n_classes\n",
    "\n",
    "# loss function and optimizer\n",
    "loss_func = nn.CrossEntropyLoss()\n",
    "optimizer = optim.SGD(filter(lambda p: p.requires_grad, model.parameters()), \n",
    "                      lr=0.1, momentum=0.8, weight_decay=0.0, nesterov=False)\n",
    "# global vars\n",
    "epochs = 5\n",
    "best_acc = 0\n",
    "\n",
    "for epoch in range(epochs):\n",
    "    print('Epoch: {0}/{1}'.format(epoch + 1, epochs))\n",
    "    # Train and validate for an epoch\n",
    "    train(model , dataloaders['train'], loss_func, optimizer, epoch, device)\n",
    "    accuracy = validate(model, dataloaders['valid'], loss_func, device)\n",
    "    best_acc = max(accuracy, best_acc)\n",
    "\n",
    "    # Save states to the model for checkpoints\n",
    "    model.epoch = epoch + 1\n",
    "    model.best_acc = best_acc\n",
    "    model.optimizer_state = optimizer.state_dict()\n",
    "\n",
    "model.class_to_idx = image_datasets['train'].class_to_idx"
   ]
  },
  {
   "cell_type": "markdown",
   "metadata": {},
   "source": [
    "## Testing your network\n",
    "\n",
    "It's good practice to test your trained network on test data, images the network has never seen either in training or validation. This will give you a good estimate for the model's performance on completely new images. Run the test images through the network and measure the accuracy, the same way you did validation. You should be able to reach around 70% accuracy on the test set if the model has been trained well."
   ]
  },
  {
   "cell_type": "code",
   "execution_count": null,
   "metadata": {},
   "outputs": [],
   "source": [
    "# Do validation on the test set\n",
    "print('\\n*****\\nTest set accuracy: {}'.format(validate(model, dataloaders['test'], loss_func, device, action='Test')))"
   ]
  },
  {
   "cell_type": "markdown",
   "metadata": {},
   "source": [
    "## Save the checkpoint\n",
    "\n",
    "Now that your network is trained, save the model so you can load it later for making predictions. You probably want to save other things such as the mapping of classes to indices which you get from one of the image datasets: `image_datasets['train'].class_to_idx`. You can attach this to the model as an attribute which makes inference easier later on.\n",
    "\n",
    "```model.class_to_idx = image_datasets['train'].class_to_idx```\n",
    "\n",
    "Remember that you'll want to completely rebuild the model later so you can use it for inference. Make sure to include any information you need in the checkpoint. If you want to load the model and keep training, you'll want to save the number of epochs as well as the optimizer state, `optimizer.state_dict`. You'll likely want to use this trained model in the next part of the project, so best to save it now."
   ]
  },
  {
   "cell_type": "code",
   "execution_count": null,
   "metadata": {},
   "outputs": [],
   "source": [
    "# Save model to checkpoint\n",
    "save_checkpoint(model)"
   ]
  },
  {
   "cell_type": "markdown",
   "metadata": {},
   "source": [
    "## Loading the checkpoint\n",
    "\n",
    "At this point it's good to write a function that can load a checkpoint and rebuild the model. That way you can come back to this project and keep working on it without having to retrain the network."
   ]
  },
  {
   "cell_type": "code",
   "execution_count": null,
   "metadata": {},
   "outputs": [],
   "source": [
    "# Write a function that loads a checkpoint and rebuilds the model\n",
    "def load_checkpoint(model=None, filename='./checkpoint.pth'):\n",
    "    if model is None:\n",
    "        model = NewModel(n_classes=len(datasets.folder.find_classes(train_dir)[0]))\n",
    "    \n",
    "    model_state = torch.load(filename, map_location='cpu')\n",
    "    model.load_state_dict(model_state['state_dict'])\n",
    "    optimizer=optim.SGD(filter(lambda p: p.requires_grad, model.parameters()), \n",
    "                      lr=0.1, momentum=0.8, weight_decay=0.0, nesterov=False)\n",
    "    optimizer.load_state_dict(model_state['optimizer_state_dict'])\n",
    "\n",
    "    return model, optimizer"
   ]
  },
  {
   "cell_type": "code",
   "execution_count": null,
   "metadata": {},
   "outputs": [],
   "source": [
    "# Test the saved checkpoint and reloaded model\n",
    "reloaded, reoptimizer = load_checkpoint()\n",
    "print('\\n*****\\nReloaded test accuracy: {}'.format(validate(reloaded, dataloaders['test'], nn.CrossEntropyLoss(), device, action='Test')))"
   ]
  },
  {
   "cell_type": "markdown",
   "metadata": {},
   "source": [
    "# Inference for classification\n",
    "\n",
    "Now you'll write a function to use a trained network for inference. That is, you'll pass an image into the network and predict the class of the flower in the image. Write a function called `predict` that takes an image and a model, then returns the top $K$ most likely classes along with the probabilities. It should look like \n",
    "\n",
    "```python\n",
    "probs, classes = predict(image_path, model)\n",
    "print(probs)\n",
    "print(classes)\n",
    "> [ 0.01558163  0.01541934  0.01452626  0.01443549  0.01407339]\n",
    "> ['70', '3', '45', '62', '55']\n",
    "```\n",
    "\n",
    "First you'll need to handle processing the input image such that it can be used in your network. \n",
    "\n",
    "## Image Preprocessing\n",
    "\n",
    "You'll want to use `PIL` to load the image ([documentation](https://pillow.readthedocs.io/en/latest/reference/Image.html)). It's best to write a function that preprocesses the image so it can be used as input for the model. This function should process the images in the same manner used for training. \n",
    "\n",
    "First, resize the images where the shortest side is 256 pixels, keeping the aspect ratio. This can be done with the [`thumbnail`](http://pillow.readthedocs.io/en/3.1.x/reference/Image.html#PIL.Image.Image.thumbnail) or [`resize`](http://pillow.readthedocs.io/en/3.1.x/reference/Image.html#PIL.Image.Image.thumbnail) methods. Then you'll need to crop out the center 224x224 portion of the image.\n",
    "\n",
    "Color channels of images are typically encoded as integers 0-255, but the model expected floats 0-1. You'll need to convert the values. It's easiest with a Numpy array, which you can get from a PIL image like so `np_image = np.array(pil_image)`.\n",
    "\n",
    "As before, the network expects the images to be normalized in a specific way. For the means, it's `[0.485, 0.456, 0.406]` and for the standard deviations `[0.229, 0.224, 0.225]`. You'll want to subtract the means from each color channel, then divide by the standard deviation. \n",
    "\n",
    "And finally, PyTorch expects the color channel to be the first dimension but it's the third dimension in the PIL image and Numpy array. You can reorder dimensions using [`ndarray.transpose`](https://docs.scipy.org/doc/numpy-1.13.0/reference/generated/numpy.ndarray.transpose.html). The color channel needs to be first and retain the order of the other two dimensions."
   ]
  },
  {
   "cell_type": "code",
   "execution_count": null,
   "metadata": {},
   "outputs": [],
   "source": [
    "def process_image(image, out_size=299):\n",
    "    ''' Scales, crops, and normalizes a PIL image for a PyTorch model,\n",
    "        returns an Numpy array\n",
    "        ? could have done using TorchVision, why not if already a requirement?\n",
    "    '''\n",
    "    # resize/thumbnail to 'out_size' + 32 pixels on shortest side\n",
    "    w, h = image.size\n",
    "    scale = (out_size + 32)/ np.min([w,h])\n",
    "    image = image.resize((int(scale * w),int(scale * h)))\n",
    "\n",
    "    # center crop image to out_size square\n",
    "    left = int((image.size[0]/2) - (out_size/2))\n",
    "    upper = int((image.size[1]/2) - (out_size/2))\n",
    "    right = left + out_size\n",
    "    lower = upper + out_size  # 'lower' is higher num, axis points down\n",
    "    image = image.crop((left, upper, right, lower))\n",
    "\n",
    "    # scale + normalize\n",
    "    image = np.array(image)/255\n",
    "    mean = np.array([0.485, 0.456, 0.406])\n",
    "    std = np.array([0.229, 0.224, 0.225])\n",
    "    image = (image - mean) / std\n",
    "\n",
    "    # Move color channel from last to first position\n",
    "    image = image.transpose((2,0,1))\n",
    "\n",
    "    return image"
   ]
  },
  {
   "cell_type": "markdown",
   "metadata": {},
   "source": [
    "To check your work, the function below converts a PyTorch tensor and displays it in the notebook. If your `process_image` function works, running the output through this function should return the original image (except for the cropped out portions)."
   ]
  },
  {
   "cell_type": "code",
   "execution_count": null,
   "metadata": {},
   "outputs": [],
   "source": [
    "def imshow(image, ax=None, title=None):\n",
    "    \"\"\"Imshow for Tensor.\"\"\"\n",
    "    if ax is None:\n",
    "        fig, ax = plt.subplots()\n",
    "        \n",
    "    # PyTorch tensors assume the color channel is the first dimension\n",
    "    # but matplotlib assumes is the third dimension\n",
    "    image = image.transpose((1, 2, 0))\n",
    "    \n",
    "    # Undo preprocessing\n",
    "    mean = np.array([0.485, 0.456, 0.406])\n",
    "    std = np.array([0.229, 0.224, 0.225])\n",
    "    image = image * std + mean\n",
    "    \n",
    "    # Image needs to be clipped between 0 and 1 or it looks like noise when displayed\n",
    "    image = np.clip(image, 0, 1)\n",
    "    ax.imshow(image)\n",
    "    ax.set_xticks([])\n",
    "    ax.set_yticks([])\n",
    "    if title is None: title = 'Title'\n",
    "    ax.set_title(title)\n",
    "    return ax"
   ]
  },
  {
   "cell_type": "code",
   "execution_count": null,
   "metadata": {},
   "outputs": [],
   "source": [
    "# test process_image function a 'random' image  (I just picked one)\n",
    "pil_image = Image.open('./flowers/test/74/image_01173.jpg')\n",
    "imshow(process_image(pil_image), title=cat_to_name['74']);"
   ]
  },
  {
   "cell_type": "markdown",
   "metadata": {},
   "source": [
    "**Yay!  It looks like a flower picture!**"
   ]
  },
  {
   "cell_type": "markdown",
   "metadata": {},
   "source": [
    "## Class Prediction\n",
    "\n",
    "Once you can get images in the correct format, it's time to write a function for making predictions with your model. A common practice is to predict the top 5 or so (usually called top-$K$) most probable classes. You'll want to calculate the class probabilities then find the $K$ largest values.\n",
    "\n",
    "To get the top $K$ largest values in a tensor use [`x.topk(k)`](http://pytorch.org/docs/master/torch.html#torch.topk). This method returns both the highest `k` probabilities and the indices of those probabilities corresponding to the classes. You need to convert from these indices to the actual class labels using `class_to_idx` which hopefully you added to the model or from an `ImageFolder` you used to load the data ([see here](#Save-the-checkpoint)). Make sure to invert the dictionary so you get a mapping from index to class as well.\n",
    "\n",
    "Again, this method should take a path to an image and a model checkpoint, then return the probabilities and classes.\n",
    "\n",
    "```python\n",
    "probs, classes = predict(image_path, model)\n",
    "print(probs)\n",
    "print(classes)\n",
    "> [ 0.01558163  0.01541934  0.01452626  0.01443549  0.01407339]\n",
    "> ['70', '3', '45', '62', '55']\n",
    "```"
   ]
  },
  {
   "cell_type": "code",
   "execution_count": null,
   "metadata": {},
   "outputs": [],
   "source": [
    "# Implement the code to predict the class from an image file\n",
    "def predict(image_path, model, topk=5):\n",
    "    ''' Predict the class (or classes) of an image using a trained deep learning model.\n",
    "    '''\n",
    "    if not os.path.isfile(image_path):\n",
    "        raise FileNotFoundError ('{} does not exist'.format(image_path))\n",
    "    image = torch.from_numpy(process_image(Image.open(image_path))).unsqueeze(0)\n",
    "    model.double()\n",
    "    model.to('cpu')\n",
    "    model.eval()\n",
    "    output = model(image)\n",
    "    prob, label_idx = torch.topk(output, topk)\n",
    "    \n",
    "    # convert indices to category labels\n",
    "    k, v = zip(*model.class_to_idx.items())\n",
    "    idx_to_class = dict(zip(v,k))\n",
    "    label_classes = [idx_to_class.get(i) for i in label_idx[0].numpy()]\n",
    "    \n",
    "    # The model doesn't give probabilities, so use this to do it.\n",
    "    sm = nn.Softmax(dim=1)\n",
    "    prob = sm(prob).detach()[0].numpy()\n",
    "    return prob, label_classes, image.squeeze(0).numpy()"
   ]
  },
  {
   "cell_type": "markdown",
   "metadata": {},
   "source": [
    "## Sanity Checking\n",
    "\n",
    "Now that you can use a trained model for predictions, check to make sure it makes sense. Even if the testing accuracy is high, it's always good to check that there aren't obvious bugs. Use `matplotlib` to plot the probabilities for the top 5 classes as a bar graph, along with the input image. It should look like this:\n",
    "\n",
    "<img src='assets/inference_example.png' width=300px>\n",
    "\n",
    "You can convert from the class integer encoding to actual flower names with the `cat_to_name.json` file (should have been loaded earlier in the notebook). To show a PyTorch tensor as an image, use the `imshow` function defined above."
   ]
  },
  {
   "cell_type": "code",
   "execution_count": null,
   "metadata": {},
   "outputs": [],
   "source": [
    "# Display an image along with the top 5 classes\n",
    "def show_result(filename, model, class_names=None):\n",
    "    '''Displays a picture that's predicted with label and top 5 labels\n",
    "    \n",
    "    params:  \n",
    "        filename: str: the path to an image file\n",
    "        model: pytorch model: trained pytorch model\n",
    "        cat_map: dict:  lookup for a label number to a label string\n",
    "    '''\n",
    "    probs, classes, img_tensor = predict(filename, model)\n",
    "    if class_names is None:\n",
    "        names = classes\n",
    "    else:\n",
    "        names = [class_names.get(c, c) for c in classes]\n",
    "    \n",
    "    fig, (ax1, ax2) = plt.subplots(2, 1, figsize=(4,8))\n",
    "    \n",
    "    imshow(img_tensor, ax=ax1, title = names[0])\n",
    "    \n",
    "    y_pos = range(len(probs), 0, -1)\n",
    "    ax2.barh(y_pos, probs)\n",
    "    ax2.set_yticks(y_pos)\n",
    "    ax2.set_yticklabels(names)"
   ]
  },
  {
   "cell_type": "code",
   "execution_count": null,
   "metadata": {},
   "outputs": [],
   "source": [
    "show_result('./flowers/test/78/image_01888.jpg', model, cat_to_name)"
   ]
  },
  {
   "cell_type": "code",
   "execution_count": null,
   "metadata": {},
   "outputs": [],
   "source": []
  }
 ],
 "metadata": {
  "kernelspec": {
   "display_name": "aipnd (Py35)",
   "language": "python",
   "name": "aipnd"
  },
  "language_info": {
   "codemirror_mode": {
    "name": "ipython",
    "version": 3
   },
   "file_extension": ".py",
   "mimetype": "text/x-python",
   "name": "python",
   "nbconvert_exporter": "python",
   "pygments_lexer": "ipython3",
   "version": "3.5.5"
  }
 },
 "nbformat": 4,
 "nbformat_minor": 2
}
