{
 "cells": [
  {
   "cell_type": "markdown",
   "metadata": {},
   "source": [
    "# Project: Identify Customer Segments\n",
    "\n",
    "In this project, you will apply unsupervised learning techniques to identify segments of the population that form the core customer base for a mail-order sales company in Germany. These segments can then be used to direct marketing campaigns towards audiences that will have the highest expected rate of returns. The data that you will use has been provided by our partners at Bertelsmann Arvato Analytics, and represents a real-life data science task.\n",
    "\n",
    "This notebook will help you complete this task by providing a framework within which you will perform your analysis steps. In each step of the project, you will see some text describing the subtask that you will perform, followed by one or more code cells for you to complete your work. **Feel free to add additional code and markdown cells as you go along so that you can explore everything in precise chunks.** The code cells provided in the base template will outline only the major tasks, and will usually not be enough to cover all of the minor tasks that comprise it.\n",
    "\n",
    "It should be noted that while there will be precise guidelines on how you should handle certain tasks in the project, there will also be places where an exact specification is not provided. **There will be times in the project where you will need to make and justify your own decisions on how to treat the data.** These are places where there may not be only one way to handle the data. In real-life tasks, there may be many valid ways to approach an analysis task. One of the most important things you can do is clearly document your approach so that other scientists can understand the decisions you've made.\n",
    "\n",
    "At the end of most sections, there will be a Markdown cell labeled **Discussion**. In these cells, you will report your findings for the completed section, as well as document the decisions that you made in your approach to each subtask. **Your project will be evaluated not just on the code used to complete the tasks outlined, but also your communication about your observations and conclusions at each stage.**"
   ]
  },
  {
   "cell_type": "code",
   "execution_count": 1,
   "metadata": {},
   "outputs": [],
   "source": [
    "# import libraries here; add more as necessary\n",
    "from ast import literal_eval\n",
    "import matplotlib.pyplot as plt\n",
    "import numpy as np\n",
    "import pandas as pd\n",
    "from pprint import pprint\n",
    "from random import sample\n",
    "import seaborn as sns\n",
    "\n",
    "from scipy.spatial.distance import cdist, pdist\n",
    "\n",
    "from sklearn.preprocessing import StandardScaler, Imputer\n",
    "from sklearn.feature_selection import VarianceThreshold\n",
    "from sklearn import neighbors\n",
    "from sklearn.metrics import cluster\n",
    "from sklearn.decomposition import PCA, IncrementalPCA\n",
    "from sklearn.cluster import MiniBatchKMeans\n",
    "\n",
    "from IPython.display import display, HTML\n",
    "\n",
    "# magic word for producing visualizations in notebook\n",
    "%matplotlib inline"
   ]
  },
  {
   "cell_type": "markdown",
   "metadata": {},
   "source": [
    "### Step 0: Load the Data\n",
    "\n",
    "There are four files associated with this project (not including this one):\n",
    "\n",
    "- `Udacity_AZDIAS_Subset.csv`: Demographics data for the general population of Germany; 891211 persons (rows) x 85 features (columns).\n",
    "- `Udacity_CUSTOMERS_Subset.csv`: Demographics data for customers of a mail-order company; 191652 persons (rows) x 85 features (columns).\n",
    "- `Data_Dictionary.md`: Detailed information file about the features in the provided datasets.\n",
    "- `AZDIAS_Feature_Summary.csv`: Summary of feature attributes for demographics data; 85 features (rows) x 4 columns\n",
    "\n",
    "Each row of the demographics files represents a single person, but also includes information outside of individuals, including information about their household, building, and neighborhood. You will use this information to cluster the general population into groups with similar demographic properties. Then, you will see how the people in the customers dataset fit into those created clusters. The hope here is that certain clusters are over-represented in the customers data, as compared to the general population; those over-represented clusters will be assumed to be part of the core userbase. This information can then be used for further applications, such as targeting for a marketing campaign.\n",
    "\n",
    "To start off with, load in the demographics data for the general population into a pandas DataFrame, and do the same for the feature attributes summary. Note for all of the `.csv` data files in this project: they're semicolon (`;`) delimited, so you'll need an additional argument in your [`read_csv()`](https://pandas.pydata.org/pandas-docs/stable/generated/pandas.read_csv.html) call to read in the data properly. Also, considering the size of the main dataset, it may take some time for it to load completely.\n",
    "\n",
    "Once the dataset is loaded, it's recommended that you take a little bit of time just browsing the general structure of the dataset and feature summary file. You'll be getting deep into the innards of the cleaning in the first major step of the project, so gaining some general familiarity can help you get your bearings."
   ]
  },
  {
   "cell_type": "code",
   "execution_count": 2,
   "metadata": {},
   "outputs": [],
   "source": [
    "# Load in the general demographics data.\n",
    "azdias = pd.read_csv('Udacity_AZDIAS_Subset.csv', delimiter=';')\n",
    "\n",
    "# Load in the feature summary file.\n",
    "feat_info = pd.read_csv('AZDIAS_Feature_Summary.csv', delimiter=';')"
   ]
  },
  {
   "cell_type": "code",
   "execution_count": 3,
   "metadata": {},
   "outputs": [
    {
     "data": {
      "text/html": [
       "<h2>azdias</h2><hr>"
      ],
      "text/plain": [
       "<IPython.core.display.HTML object>"
      ]
     },
     "metadata": {},
     "output_type": "display_data"
    },
    {
     "name": "stdout",
     "output_type": "stream",
     "text": [
      "size: 891,221 rows X 85 columns\n"
     ]
    },
    {
     "data": {
      "text/html": [
       "<div>\n",
       "<style scoped>\n",
       "    .dataframe tbody tr th:only-of-type {\n",
       "        vertical-align: middle;\n",
       "    }\n",
       "\n",
       "    .dataframe tbody tr th {\n",
       "        vertical-align: top;\n",
       "    }\n",
       "\n",
       "    .dataframe thead th {\n",
       "        text-align: right;\n",
       "    }\n",
       "</style>\n",
       "<table border=\"1\" class=\"dataframe\">\n",
       "  <thead>\n",
       "    <tr style=\"text-align: right;\">\n",
       "      <th></th>\n",
       "      <th>AGER_TYP</th>\n",
       "      <th>ALTERSKATEGORIE_GROB</th>\n",
       "      <th>ANREDE_KZ</th>\n",
       "      <th>CJT_GESAMTTYP</th>\n",
       "      <th>FINANZ_MINIMALIST</th>\n",
       "      <th>FINANZ_SPARER</th>\n",
       "      <th>FINANZ_VORSORGER</th>\n",
       "      <th>FINANZ_ANLEGER</th>\n",
       "      <th>FINANZ_UNAUFFAELLIGER</th>\n",
       "      <th>FINANZ_HAUSBAUER</th>\n",
       "      <th>...</th>\n",
       "      <th>PLZ8_ANTG1</th>\n",
       "      <th>PLZ8_ANTG2</th>\n",
       "      <th>PLZ8_ANTG3</th>\n",
       "      <th>PLZ8_ANTG4</th>\n",
       "      <th>PLZ8_BAUMAX</th>\n",
       "      <th>PLZ8_HHZ</th>\n",
       "      <th>PLZ8_GBZ</th>\n",
       "      <th>ARBEIT</th>\n",
       "      <th>ORTSGR_KLS9</th>\n",
       "      <th>RELAT_AB</th>\n",
       "    </tr>\n",
       "  </thead>\n",
       "  <tbody>\n",
       "    <tr>\n",
       "      <th>0</th>\n",
       "      <td>-1</td>\n",
       "      <td>2</td>\n",
       "      <td>1</td>\n",
       "      <td>2.0</td>\n",
       "      <td>3</td>\n",
       "      <td>4</td>\n",
       "      <td>3</td>\n",
       "      <td>5</td>\n",
       "      <td>5</td>\n",
       "      <td>3</td>\n",
       "      <td>...</td>\n",
       "      <td>NaN</td>\n",
       "      <td>NaN</td>\n",
       "      <td>NaN</td>\n",
       "      <td>NaN</td>\n",
       "      <td>NaN</td>\n",
       "      <td>NaN</td>\n",
       "      <td>NaN</td>\n",
       "      <td>NaN</td>\n",
       "      <td>NaN</td>\n",
       "      <td>NaN</td>\n",
       "    </tr>\n",
       "    <tr>\n",
       "      <th>1</th>\n",
       "      <td>-1</td>\n",
       "      <td>1</td>\n",
       "      <td>2</td>\n",
       "      <td>5.0</td>\n",
       "      <td>1</td>\n",
       "      <td>5</td>\n",
       "      <td>2</td>\n",
       "      <td>5</td>\n",
       "      <td>4</td>\n",
       "      <td>5</td>\n",
       "      <td>...</td>\n",
       "      <td>2.0</td>\n",
       "      <td>3.0</td>\n",
       "      <td>2.0</td>\n",
       "      <td>1.0</td>\n",
       "      <td>1.0</td>\n",
       "      <td>5.0</td>\n",
       "      <td>4.0</td>\n",
       "      <td>3.0</td>\n",
       "      <td>5.0</td>\n",
       "      <td>4.0</td>\n",
       "    </tr>\n",
       "    <tr>\n",
       "      <th>2</th>\n",
       "      <td>-1</td>\n",
       "      <td>3</td>\n",
       "      <td>2</td>\n",
       "      <td>3.0</td>\n",
       "      <td>1</td>\n",
       "      <td>4</td>\n",
       "      <td>1</td>\n",
       "      <td>2</td>\n",
       "      <td>3</td>\n",
       "      <td>5</td>\n",
       "      <td>...</td>\n",
       "      <td>3.0</td>\n",
       "      <td>3.0</td>\n",
       "      <td>1.0</td>\n",
       "      <td>0.0</td>\n",
       "      <td>1.0</td>\n",
       "      <td>4.0</td>\n",
       "      <td>4.0</td>\n",
       "      <td>3.0</td>\n",
       "      <td>5.0</td>\n",
       "      <td>2.0</td>\n",
       "    </tr>\n",
       "    <tr>\n",
       "      <th>3</th>\n",
       "      <td>2</td>\n",
       "      <td>4</td>\n",
       "      <td>2</td>\n",
       "      <td>2.0</td>\n",
       "      <td>4</td>\n",
       "      <td>2</td>\n",
       "      <td>5</td>\n",
       "      <td>2</td>\n",
       "      <td>1</td>\n",
       "      <td>2</td>\n",
       "      <td>...</td>\n",
       "      <td>2.0</td>\n",
       "      <td>2.0</td>\n",
       "      <td>2.0</td>\n",
       "      <td>0.0</td>\n",
       "      <td>1.0</td>\n",
       "      <td>3.0</td>\n",
       "      <td>4.0</td>\n",
       "      <td>2.0</td>\n",
       "      <td>3.0</td>\n",
       "      <td>3.0</td>\n",
       "    </tr>\n",
       "    <tr>\n",
       "      <th>4</th>\n",
       "      <td>-1</td>\n",
       "      <td>3</td>\n",
       "      <td>1</td>\n",
       "      <td>5.0</td>\n",
       "      <td>4</td>\n",
       "      <td>3</td>\n",
       "      <td>4</td>\n",
       "      <td>1</td>\n",
       "      <td>3</td>\n",
       "      <td>2</td>\n",
       "      <td>...</td>\n",
       "      <td>2.0</td>\n",
       "      <td>4.0</td>\n",
       "      <td>2.0</td>\n",
       "      <td>1.0</td>\n",
       "      <td>2.0</td>\n",
       "      <td>3.0</td>\n",
       "      <td>3.0</td>\n",
       "      <td>4.0</td>\n",
       "      <td>6.0</td>\n",
       "      <td>5.0</td>\n",
       "    </tr>\n",
       "  </tbody>\n",
       "</table>\n",
       "<p>5 rows × 85 columns</p>\n",
       "</div>"
      ],
      "text/plain": [
       "   AGER_TYP  ALTERSKATEGORIE_GROB  ANREDE_KZ  CJT_GESAMTTYP  \\\n",
       "0        -1                     2          1            2.0   \n",
       "1        -1                     1          2            5.0   \n",
       "2        -1                     3          2            3.0   \n",
       "3         2                     4          2            2.0   \n",
       "4        -1                     3          1            5.0   \n",
       "\n",
       "   FINANZ_MINIMALIST  FINANZ_SPARER  FINANZ_VORSORGER  FINANZ_ANLEGER  \\\n",
       "0                  3              4                 3               5   \n",
       "1                  1              5                 2               5   \n",
       "2                  1              4                 1               2   \n",
       "3                  4              2                 5               2   \n",
       "4                  4              3                 4               1   \n",
       "\n",
       "   FINANZ_UNAUFFAELLIGER  FINANZ_HAUSBAUER    ...     PLZ8_ANTG1  PLZ8_ANTG2  \\\n",
       "0                      5                 3    ...            NaN         NaN   \n",
       "1                      4                 5    ...            2.0         3.0   \n",
       "2                      3                 5    ...            3.0         3.0   \n",
       "3                      1                 2    ...            2.0         2.0   \n",
       "4                      3                 2    ...            2.0         4.0   \n",
       "\n",
       "   PLZ8_ANTG3  PLZ8_ANTG4  PLZ8_BAUMAX  PLZ8_HHZ  PLZ8_GBZ  ARBEIT  \\\n",
       "0         NaN         NaN          NaN       NaN       NaN     NaN   \n",
       "1         2.0         1.0          1.0       5.0       4.0     3.0   \n",
       "2         1.0         0.0          1.0       4.0       4.0     3.0   \n",
       "3         2.0         0.0          1.0       3.0       4.0     2.0   \n",
       "4         2.0         1.0          2.0       3.0       3.0     4.0   \n",
       "\n",
       "   ORTSGR_KLS9  RELAT_AB  \n",
       "0          NaN       NaN  \n",
       "1          5.0       4.0  \n",
       "2          5.0       2.0  \n",
       "3          3.0       3.0  \n",
       "4          6.0       5.0  \n",
       "\n",
       "[5 rows x 85 columns]"
      ]
     },
     "metadata": {},
     "output_type": "display_data"
    }
   ],
   "source": [
    "# Check the structure of the data after it's loaded (e.g. print the number of\n",
    "# rows and columns, print the first few rows).\n",
    "display(HTML('<h2>azdias</h2><hr>'))\n",
    "print('size: {size[0]:,.0f} rows X {size[1]:,.0f} columns'.format(size=azdias.shape))\n",
    "display(azdias.head())"
   ]
  },
  {
   "cell_type": "code",
   "execution_count": 4,
   "metadata": {},
   "outputs": [
    {
     "data": {
      "text/html": [
       "<h2>feat_info</h2><hr>"
      ],
      "text/plain": [
       "<IPython.core.display.HTML object>"
      ]
     },
     "metadata": {},
     "output_type": "display_data"
    },
    {
     "name": "stdout",
     "output_type": "stream",
     "text": [
      "size: 85 rows X 4 columns\n"
     ]
    },
    {
     "data": {
      "text/html": [
       "<div>\n",
       "<style scoped>\n",
       "    .dataframe tbody tr th:only-of-type {\n",
       "        vertical-align: middle;\n",
       "    }\n",
       "\n",
       "    .dataframe tbody tr th {\n",
       "        vertical-align: top;\n",
       "    }\n",
       "\n",
       "    .dataframe thead th {\n",
       "        text-align: right;\n",
       "    }\n",
       "</style>\n",
       "<table border=\"1\" class=\"dataframe\">\n",
       "  <thead>\n",
       "    <tr style=\"text-align: right;\">\n",
       "      <th></th>\n",
       "      <th>attribute</th>\n",
       "      <th>information_level</th>\n",
       "      <th>type</th>\n",
       "      <th>missing_or_unknown</th>\n",
       "    </tr>\n",
       "  </thead>\n",
       "  <tbody>\n",
       "    <tr>\n",
       "      <th>0</th>\n",
       "      <td>AGER_TYP</td>\n",
       "      <td>person</td>\n",
       "      <td>categorical</td>\n",
       "      <td>[-1,0]</td>\n",
       "    </tr>\n",
       "    <tr>\n",
       "      <th>1</th>\n",
       "      <td>ALTERSKATEGORIE_GROB</td>\n",
       "      <td>person</td>\n",
       "      <td>ordinal</td>\n",
       "      <td>[-1,0,9]</td>\n",
       "    </tr>\n",
       "    <tr>\n",
       "      <th>2</th>\n",
       "      <td>ANREDE_KZ</td>\n",
       "      <td>person</td>\n",
       "      <td>categorical</td>\n",
       "      <td>[-1,0]</td>\n",
       "    </tr>\n",
       "    <tr>\n",
       "      <th>3</th>\n",
       "      <td>CJT_GESAMTTYP</td>\n",
       "      <td>person</td>\n",
       "      <td>categorical</td>\n",
       "      <td>[0]</td>\n",
       "    </tr>\n",
       "    <tr>\n",
       "      <th>4</th>\n",
       "      <td>FINANZ_MINIMALIST</td>\n",
       "      <td>person</td>\n",
       "      <td>ordinal</td>\n",
       "      <td>[-1]</td>\n",
       "    </tr>\n",
       "  </tbody>\n",
       "</table>\n",
       "</div>"
      ],
      "text/plain": [
       "              attribute information_level         type missing_or_unknown\n",
       "0              AGER_TYP            person  categorical             [-1,0]\n",
       "1  ALTERSKATEGORIE_GROB            person      ordinal           [-1,0,9]\n",
       "2             ANREDE_KZ            person  categorical             [-1,0]\n",
       "3         CJT_GESAMTTYP            person  categorical                [0]\n",
       "4     FINANZ_MINIMALIST            person      ordinal               [-1]"
      ]
     },
     "metadata": {},
     "output_type": "display_data"
    }
   ],
   "source": [
    "display(HTML('<h2>feat_info</h2><hr>'))\n",
    "print('size: {size[0]:,.0f} rows X {size[1]:,.0f} columns'.format(size=feat_info.shape))\n",
    "display(feat_info.head())"
   ]
  },
  {
   "cell_type": "markdown",
   "metadata": {},
   "source": [
    "> **Tip**: Add additional cells to keep everything in reasonably-sized chunks! Keyboard shortcut `esc --> a` (press escape to enter command mode, then press the 'A' key) adds a new cell before the active cell, and `esc --> b` adds a new cell after the active cell. If you need to convert an active cell to a markdown cell, use `esc --> m` and to convert to a code cell, use `esc --> y`. \n",
    "\n",
    "## Step 1: Preprocessing\n",
    "\n",
    "### Step 1.1: Assess Missing Data\n",
    "\n",
    "The feature summary file contains a summary of properties for each demographics data column. You will use this file to help you make cleaning decisions during this stage of the project. First of all, you should assess the demographics data in terms of missing data. Pay attention to the following points as you perform your analysis, and take notes on what you observe. Make sure that you fill in the **Discussion** cell with your findings and decisions at the end of each step that has one!\n",
    "\n",
    "#### Step 1.1.1: Convert Missing Value Codes to NaNs\n",
    "The fourth column of the feature attributes summary (loaded in above as `feat_info`) documents the codes from the data dictionary that indicate missing or unknown data. While the file encodes this as a list (e.g. `[-1,0]`), this will get read in as a string object. You'll need to do a little bit of parsing to make use of it to identify and clean the data. Convert data that matches a 'missing' or 'unknown' value code into a numpy NaN value. You might want to see how much data takes on a 'missing' or 'unknown' code, and how much data is naturally missing, as a point of interest.\n",
    "\n",
    "**As one more reminder, you are encouraged to add additional cells to break up your analysis into manageable chunks.**"
   ]
  },
  {
   "cell_type": "code",
   "execution_count": 5,
   "metadata": {},
   "outputs": [
    {
     "name": "stdout",
     "output_type": "stream",
     "text": [
      "The AZDIAS dataset has 4,896,838 \"naturally missing\" values\n"
     ]
    }
   ],
   "source": [
    "# Amount of data that is 'naturally missing'\n",
    "missing_or_blank_count = azdias.replace(r'^\\s*$', np.nan, regex=True).apply(lambda x: sum(x.isnull()), axis=0).sum()\n",
    "\n",
    "print('The AZDIAS dataset has {:,.0f} \"naturally missing\" values'.format(missing_or_blank_count))"
   ]
  },
  {
   "cell_type": "code",
   "execution_count": 6,
   "metadata": {},
   "outputs": [
    {
     "name": "stdout",
     "output_type": "stream",
     "text": [
      "(891221, 85)\n"
     ]
    },
    {
     "data": {
      "text/html": [
       "<div>\n",
       "<style scoped>\n",
       "    .dataframe tbody tr th:only-of-type {\n",
       "        vertical-align: middle;\n",
       "    }\n",
       "\n",
       "    .dataframe tbody tr th {\n",
       "        vertical-align: top;\n",
       "    }\n",
       "\n",
       "    .dataframe thead th {\n",
       "        text-align: right;\n",
       "    }\n",
       "</style>\n",
       "<table border=\"1\" class=\"dataframe\">\n",
       "  <thead>\n",
       "    <tr style=\"text-align: right;\">\n",
       "      <th></th>\n",
       "      <th>AGER_TYP</th>\n",
       "      <th>ALTERSKATEGORIE_GROB</th>\n",
       "      <th>ANREDE_KZ</th>\n",
       "      <th>CJT_GESAMTTYP</th>\n",
       "      <th>FINANZ_MINIMALIST</th>\n",
       "      <th>FINANZ_SPARER</th>\n",
       "      <th>FINANZ_VORSORGER</th>\n",
       "      <th>FINANZ_ANLEGER</th>\n",
       "      <th>FINANZ_UNAUFFAELLIGER</th>\n",
       "      <th>FINANZ_HAUSBAUER</th>\n",
       "      <th>...</th>\n",
       "      <th>PLZ8_ANTG1</th>\n",
       "      <th>PLZ8_ANTG2</th>\n",
       "      <th>PLZ8_ANTG3</th>\n",
       "      <th>PLZ8_ANTG4</th>\n",
       "      <th>PLZ8_BAUMAX</th>\n",
       "      <th>PLZ8_HHZ</th>\n",
       "      <th>PLZ8_GBZ</th>\n",
       "      <th>ARBEIT</th>\n",
       "      <th>ORTSGR_KLS9</th>\n",
       "      <th>RELAT_AB</th>\n",
       "    </tr>\n",
       "  </thead>\n",
       "  <tbody>\n",
       "    <tr>\n",
       "      <th>0</th>\n",
       "      <td>NaN</td>\n",
       "      <td>2.0</td>\n",
       "      <td>1</td>\n",
       "      <td>2.0</td>\n",
       "      <td>3</td>\n",
       "      <td>4</td>\n",
       "      <td>3</td>\n",
       "      <td>5</td>\n",
       "      <td>5</td>\n",
       "      <td>3</td>\n",
       "      <td>...</td>\n",
       "      <td>NaN</td>\n",
       "      <td>NaN</td>\n",
       "      <td>NaN</td>\n",
       "      <td>NaN</td>\n",
       "      <td>NaN</td>\n",
       "      <td>NaN</td>\n",
       "      <td>NaN</td>\n",
       "      <td>NaN</td>\n",
       "      <td>NaN</td>\n",
       "      <td>NaN</td>\n",
       "    </tr>\n",
       "    <tr>\n",
       "      <th>1</th>\n",
       "      <td>NaN</td>\n",
       "      <td>1.0</td>\n",
       "      <td>2</td>\n",
       "      <td>5.0</td>\n",
       "      <td>1</td>\n",
       "      <td>5</td>\n",
       "      <td>2</td>\n",
       "      <td>5</td>\n",
       "      <td>4</td>\n",
       "      <td>5</td>\n",
       "      <td>...</td>\n",
       "      <td>2.0</td>\n",
       "      <td>3.0</td>\n",
       "      <td>2.0</td>\n",
       "      <td>1.0</td>\n",
       "      <td>1.0</td>\n",
       "      <td>5.0</td>\n",
       "      <td>4.0</td>\n",
       "      <td>3.0</td>\n",
       "      <td>5.0</td>\n",
       "      <td>4.0</td>\n",
       "    </tr>\n",
       "  </tbody>\n",
       "</table>\n",
       "<p>2 rows × 85 columns</p>\n",
       "</div>"
      ],
      "text/plain": [
       "   AGER_TYP  ALTERSKATEGORIE_GROB  ANREDE_KZ  CJT_GESAMTTYP  \\\n",
       "0       NaN                   2.0          1            2.0   \n",
       "1       NaN                   1.0          2            5.0   \n",
       "\n",
       "   FINANZ_MINIMALIST  FINANZ_SPARER  FINANZ_VORSORGER  FINANZ_ANLEGER  \\\n",
       "0                  3              4                 3               5   \n",
       "1                  1              5                 2               5   \n",
       "\n",
       "   FINANZ_UNAUFFAELLIGER  FINANZ_HAUSBAUER    ...     PLZ8_ANTG1  PLZ8_ANTG2  \\\n",
       "0                      5                 3    ...            NaN         NaN   \n",
       "1                      4                 5    ...            2.0         3.0   \n",
       "\n",
       "   PLZ8_ANTG3  PLZ8_ANTG4  PLZ8_BAUMAX  PLZ8_HHZ  PLZ8_GBZ  ARBEIT  \\\n",
       "0         NaN         NaN          NaN       NaN       NaN     NaN   \n",
       "1         2.0         1.0          1.0       5.0       4.0     3.0   \n",
       "\n",
       "   ORTSGR_KLS9  RELAT_AB  \n",
       "0          NaN       NaN  \n",
       "1          5.0       4.0  \n",
       "\n",
       "[2 rows x 85 columns]"
      ]
     },
     "execution_count": 6,
     "metadata": {},
     "output_type": "execute_result"
    }
   ],
   "source": [
    "# Identify missing or unknown data values and convert them to NaNs.\n",
    "def missing_to_nan(df, featinfo=feat_info):\n",
    "    \"\"\"pass a dataframe to have values replaced, and a dataframe containing feature info\"\"\"\n",
    "    nan_dict = {featinfo.attribute[i]: literal_eval(x) \n",
    "                for i,x in enumerate(\n",
    "                    featinfo.missing_or_unknown.str.replace('[X]+', lambda m: '\"{}\"'.format(m.group(0)))\n",
    "                ) if literal_eval(x) != []}\n",
    "    return df.replace(to_replace=nan_dict, value=np.nan)\n",
    "\n",
    "azdias = missing_to_nan(azdias, feat_info)\n",
    "print(azdias.shape)\n",
    "azdias.head(2)"
   ]
  },
  {
   "cell_type": "code",
   "execution_count": 7,
   "metadata": {},
   "outputs": [
    {
     "name": "stdout",
     "output_type": "stream",
     "text": [
      "The AZDIAS dataset contains 8,373,929 NaN values.\n"
     ]
    }
   ],
   "source": [
    "print('The AZDIAS dataset contains {:,.0f} NaN values.'.format(azdias.isna().sum().sum()))"
   ]
  },
  {
   "cell_type": "markdown",
   "metadata": {},
   "source": [
    "**NOTE:** Replacing the NaN values is much more efficiently applied when pandas imports from the CSV.  The approach demonstrated was to comply with the course rubric and lesson flow.  I would, in a real problem, use the pandas read_csv facility to achieve the same result, more efficiently."
   ]
  },
  {
   "cell_type": "markdown",
   "metadata": {},
   "source": [
    "#### Step 1.1.2: Assess Missing Data in Each Column\n",
    "\n",
    "How much missing data is present in each column? There are a few columns that are outliers in terms of the proportion of values that are missing. You will want to use matplotlib's [`hist()`](https://matplotlib.org/api/_as_gen/matplotlib.pyplot.hist.html) function to visualize the distribution of missing value counts to find these columns. Identify and document these columns. While some of these columns might have justifications for keeping or re-encoding the data, for this project you should just remove them from the dataframe. (Feel free to make remarks about these outlier columns in the discussion, however!)\n",
    "\n",
    "For the remaining features, are there any patterns in which columns have, or share, missing data?"
   ]
  },
  {
   "cell_type": "code",
   "execution_count": 8,
   "metadata": {},
   "outputs": [],
   "source": [
    "# Perform an assessment of how much missing data there is in each column of the\n",
    "# dataset.\n",
    "def get_missing(data, axis=1):\n",
    "    \"\"\"Take in a dataframe and return series giving missing ratio for each column\"\"\"\n",
    "    if axis == 0:\n",
    "        data = data.T\n",
    "    data = data.count().div(-data.shape[0]).add(1.0)\n",
    "    if axis == 0:\n",
    "        data = data.T\n",
    "    return data\n",
    "\n",
    "missing = get_missing(azdias)"
   ]
  },
  {
   "cell_type": "code",
   "execution_count": 9,
   "metadata": {},
   "outputs": [
    {
     "data": {
      "image/png": "[encoded data removed]",
      "text/plain": [
       "<Figure size 432x288 with 1 Axes>"
      ]
     },
     "metadata": {
      "needs_background": "light"
     },
     "output_type": "display_data"
    }
   ],
   "source": [
    "# Investigate patterns in the amount of missing data in each column.\n",
    "missing.hist();"
   ]
  },
  {
   "cell_type": "code",
   "execution_count": 10,
   "metadata": {},
   "outputs": [
    {
     "name": "stdout",
     "output_type": "stream",
     "text": [
      "Features with more than 20% missing values (to be dropped): ['TITEL_KZ' 'AGER_TYP' 'KK_KUNDENTYP' 'KBA05_BAUMAX' 'GEBURTSJAHR'\n",
      " 'ALTER_HH']\n"
     ]
    }
   ],
   "source": [
    "# Which fields are missing > 20%\n",
    "outlier_cols = missing.where(missing > 0.2).dropna().sort_values(ascending=False).index.values\n",
    "print('Features with more than 20% missing values (to be dropped):', outlier_cols)"
   ]
  },
  {
   "cell_type": "code",
   "execution_count": 11,
   "metadata": {},
   "outputs": [
    {
     "data": {
      "text/plain": [
       "(891221, 79)"
      ]
     },
     "execution_count": 11,
     "metadata": {},
     "output_type": "execute_result"
    }
   ],
   "source": [
    "# Remove the outlier columns from the dataset. (You'll perform other data\n",
    "# engineering tasks such as re-encoding and imputation later.)\n",
    "def drop_outlier_cols(df, cols=outlier_cols):\n",
    "    for col in [c for c in df.columns if c in cols]:\n",
    "        df = df.drop(col, axis=1)\n",
    "    return df\n",
    "\n",
    "azdias = drop_outlier_cols(azdias)\n",
    "azdias_clean_cols = azdias.columns\n",
    "azdias.shape"
   ]
  },
  {
   "cell_type": "markdown",
   "metadata": {},
   "source": [
    "<div class=\"alert alert-block alert-success\">\n",
    "<h4>Discussion 1.1.2: Assess Missing Data in Each Column</h4>\n",
    "There are 6 columns that are dropped due to missing more than typical amounts of data (compared to the rest of the dataset):\n",
    "<ul>\n",
    "<li>TITEL_KZ - Academic title of Dr. or Prof. with some variation (E.g. 'Dr. Dr.')\n",
    "    <br>- Not helpful to determine gender or education level beyond other metrics, good to drop.</li>\n",
    "<li>AGER_TYP - 'elderly' identity via passive, cultural or experience\n",
    "    <br>- This would only apply to those customers deemed \"elderly\" to determine why/how they were classified.  It makes sense that it's s sparse feature, and I might not drop it so quickly, normally.</li>\n",
    "<li>KK_KUNDENTYP - Consumer pattern past 12 months\n",
    "    <br>- Also sensible that this would be sparse, since it seems to reflect relationship with the company.  Most people wouldn't have that history as a know.  Clustering on customer activity level seems to be contrary to the first state of this analysis...so reasonable to drop it (even if it were not sparse).</li>\n",
    "<li>KBA05_BAUMAX - Most common building type in a mcrocell\n",
    "    <br>- Most likely redundant info given the number of related measures in the same section</li>\n",
    "<li>GEBURTSJAHR - Birthdate\n",
    "    <br>- Value is in determining age and generational identity.  Most of these types of features are picked up in more densely populated features. Birthdate is also potentially privacy sensitive given the other information we have, so I'm happy to drop this one.</li>\n",
    "<li>ALTER_HH - Birthdate range for the head of household as a 5 year range.\n",
    "    <br>- For the reason above dropping this one isn't an issue.</li>\n",
    "</ul>\n",
    "</div>"
   ]
  },
  {
   "cell_type": "markdown",
   "metadata": {},
   "source": [
    "#### Step 1.1.3: Assess Missing Data in Each Row\n",
    "\n",
    "Now, you'll perform a similar assessment for the rows of the dataset. How much data is missing in each row? As with the columns, you should see some groups of points that have a very different numbers of missing values. Divide the data into two subsets: one for data points that are above some threshold for missing values, and a second subset for points below that threshold.\n",
    "\n",
    "In order to know what to do with the outlier rows, we should see if the distribution of data values on columns that are not missing data (or are missing very little data) are similar or different between the two groups. Select at least five of these columns and compare the distribution of values.\n",
    "- You can use seaborn's [`countplot()`](https://seaborn.pydata.org/generated/seaborn.countplot.html) function to create a bar chart of code frequencies and matplotlib's [`subplot()`](https://matplotlib.org/api/_as_gen/matplotlib.pyplot.subplot.html) function to put bar charts for the two subplots side by side.\n",
    "- To reduce repeated code, you might want to write a function that can perform this comparison, taking as one of its arguments a column to be compared.\n",
    "\n",
    "Depending on what you observe in your comparison, this will have implications on how you approach your conclusions later in the analysis. If the distributions of non-missing features look similar between the data with many missing values and the data with few or no missing values, then we could argue that simply dropping those points from the analysis won't present a major issue. On the other hand, if the data with many missing values looks very different from the data with few or no missing values, then we should make a note on those data as special. We'll revisit these data later on. **Either way, you should continue your analysis for now using just the subset of the data with few or no missing values.**"
   ]
  },
  {
   "cell_type": "code",
   "execution_count": 12,
   "metadata": {},
   "outputs": [
    {
     "data": {
      "image/png": "[encoded data removed]",
      "text/plain": [
       "<Figure size 432x288 with 1 Axes>"
      ]
     },
     "metadata": {
      "needs_background": "light"
     },
     "output_type": "display_data"
    }
   ],
   "source": [
    "# How much data is missing in each row of the dataset?\n",
    "missing_rows = get_missing(azdias, axis=0).sort_values(ascending=False)\n",
    "\n",
    "missing_rows.plot(kind='hist', log=True);"
   ]
  },
  {
   "cell_type": "code",
   "execution_count": 13,
   "metadata": {},
   "outputs": [
    {
     "name": "stdout",
     "output_type": "stream",
     "text": [
      "azdias_dense: (797837, 79)   azdias_sparse: (93384, 79)\n"
     ]
    }
   ],
   "source": [
    "# Write code to divide the data into two subsets based on the number of missing\n",
    "# values in each row.\n",
    "def split_bymissing(data, threshold=0.3):\n",
    "    sparse_mask = get_missing(data, axis=0) >= threshold\n",
    "    df_sparse = data.loc[sparse_mask]\n",
    "    dense_mask = sparse_mask == False\n",
    "    df_dense = data.loc[dense_mask]\n",
    "    return df_dense, df_sparse\n",
    "\n",
    "azdias_dense, azdias_sparse = split_bymissing(azdias)\n",
    "print('azdias_dense:',azdias_dense.shape, '  azdias_sparse:',azdias_sparse.shape)"
   ]
  },
  {
   "cell_type": "code",
   "execution_count": 14,
   "metadata": {},
   "outputs": [
    {
     "data": {
      "text/plain": [
       "['SEMIO_FAM',\n",
       " 'FINANZ_VORSORGER',\n",
       " 'FINANZ_ANLEGER',\n",
       " 'ZABEOTYP',\n",
       " 'SEMIO_REL',\n",
       " 'SEMIO_RAT']"
      ]
     },
     "execution_count": 14,
     "metadata": {},
     "output_type": "execute_result"
    }
   ],
   "source": [
    "# Find 5 columns that are not missing data in both splits\n",
    "def get_comp_cols(df1, df2, n=5):\n",
    "    \"\"\"Return n random fields that are fully populated in both dataframes\n",
    "    \"\"\"\n",
    "    cols1 = get_missing(df1)\n",
    "    cols1 = list(cols1.where(cols1 < 1e-6).dropna().index)\n",
    "    cols2 = get_missing(df2)\n",
    "    cols2 = list(cols2.where(cols2 < 1e-6).dropna().index)\n",
    "    compare_cols = [col for col in cols1 if col in cols2]\n",
    "    return sample(compare_cols, min(n, len(compare_cols)))\n",
    "\n",
    "get_comp_cols(azdias_dense, azdias_sparse, 6)"
   ]
  },
  {
   "cell_type": "code",
   "execution_count": 15,
   "metadata": {},
   "outputs": [],
   "source": [
    "# Compare the distribution of values for at least five columns where there are\n",
    "# no or few missing values, between the two subsets.\n",
    "def compare_splits(df1, df2, col_count=5):\n",
    "    \"\"\"Takes two datasets and compares the proportion of field values with plots\"\"\"\n",
    "    attr_data = []\n",
    "    for col in get_comp_cols(df1, df2, col_count):\n",
    "        attr_data.append(pd.concat([df1[col].value_counts(normalize=True).rename('dense'),\n",
    "                                    df2[col].value_counts(normalize=True).rename('sparse')], \n",
    "                                   axis=1).assign(attribute=col).sort_index())\n",
    "    comp_data = (pd.concat(attr_data, axis=0).reset_index()\n",
    "                 .rename(columns={'index': 'attribute_value'})\n",
    "                 .melt(id_vars=['attribute','attribute_value'], value_vars=['dense','sparse'])\n",
    "                 .sort_values(['attribute','attribute_value','variable'])\n",
    "                 .fillna(0.0))\n",
    "    return comp_data"
   ]
  },
  {
   "cell_type": "code",
   "execution_count": 16,
   "metadata": {},
   "outputs": [],
   "source": [
    "def comp_col_plot(data):\n",
    "    ncols = 3\n",
    "    nrows = comp_col_count//ncols\n",
    "    if ncols*nrows < comp_col_count:\n",
    "        nrows += 1\n",
    "    plt.figure(figsize=(3.5*ncols, 3 * nrows))\n",
    "    fields = list(data.attribute.unique())\n",
    "    for i, field in enumerate(fields):\n",
    "        ax = plt.subplot(nrows, ncols, i+1)\n",
    "        ax.set_title('attribute=\"{}\"'.format(field))\n",
    "        sns.barplot(x='attribute_value', y='value', hue='variable', \n",
    "                    data=data[data['attribute']==field])\n",
    "        ax.set_ylabel('Count (Normalised)')\n",
    "        ax.set_xlabel('Attribute Value')\n",
    "        plt.legend()\n",
    "    plt.tight_layout()"
   ]
  },
  {
   "cell_type": "code",
   "execution_count": 17,
   "metadata": {},
   "outputs": [
    {
     "data": {
      "image/png": "[encoded data removed]",
      "text/plain": [
       "<Figure size 756x432 with 6 Axes>"
      ]
     },
     "metadata": {
      "needs_background": "light"
     },
     "output_type": "display_data"
    }
   ],
   "source": [
    "comp_col_count = 6\n",
    "comp_col_plot(compare_splits(azdias_dense, azdias_sparse, comp_col_count))"
   ]
  },
  {
   "cell_type": "markdown",
   "metadata": {},
   "source": [
    "<div class=\"alert alert-block alert-success\">\n",
    "<h4>Discussion 1.1.3: Assess Missing Data in Each Row</h4>\n",
    "\n",
    "The rows with unusually high amounts of missing data have a substantially different profile (see above, and have a play).  I'd go so far to say that the highest rates of incomplete data tends to identify a segment by available information.\n",
    "\n",
    "For example, greater than 80% of missing rows rate very low as an investor, and money-saver, while more complete rows are more evenly distributed with higher responses at the opposite end of the scale. I'm dropping the sparse rows.\n",
    "</div>"
   ]
  },
  {
   "cell_type": "code",
   "execution_count": 18,
   "metadata": {},
   "outputs": [
    {
     "data": {
      "text/plain": [
       "(797837, 79)"
      ]
     },
     "execution_count": 18,
     "metadata": {},
     "output_type": "execute_result"
    }
   ],
   "source": [
    "# Drop rows containing more than 30% NaN values\n",
    "# This should make azdias have the same rows that azdias_dense contains, above\n",
    "def drop_sparse_rows(df, max_na=0.3):\n",
    "    n_cols = df.shape[1]\n",
    "    n_na = int(n_cols * max_na)\n",
    "    df = df.dropna(axis=0, thresh=(n_cols-n_na))\n",
    "    return df\n",
    "\n",
    "azdias = drop_sparse_rows(azdias)\n",
    "azdias.shape"
   ]
  },
  {
   "cell_type": "markdown",
   "metadata": {},
   "source": [
    "### Step 1.2: Select and Re-Encode Features\n",
    "\n",
    "Checking for missing data isn't the only way in which you can prepare a dataset for analysis. Since the unsupervised learning techniques to be used will only work on data that is encoded numerically, you need to make a few encoding changes or additional assumptions to be able to make progress. In addition, while almost all of the values in the dataset are encoded using numbers, not all of them represent numeric values. Check the third column of the feature summary (`feat_info`) for a summary of types of measurement.\n",
    "- For numeric and interval data, these features can be kept without changes.\n",
    "- Most of the variables in the dataset are ordinal in nature. While ordinal values may technically be non-linear in spacing, make the simplifying assumption that the ordinal variables can be treated as being interval in nature (that is, kept without any changes).\n",
    "- Special handling may be necessary for the remaining two variable types: categorical, and 'mixed'.\n",
    "\n",
    "In the first two parts of this sub-step, you will perform an investigation of the categorical and mixed-type features and make a decision on each of them, whether you will keep, drop, or re-encode each. Then, in the last part, you will create a new data frame with only the selected and engineered columns.\n",
    "\n",
    "Data wrangling is often the trickiest part of the data analysis process, and there's a lot of it to be done here. But stick with it: once you're done with this step, you'll be ready to get to the machine learning parts of the project!"
   ]
  },
  {
   "cell_type": "code",
   "execution_count": 19,
   "metadata": {},
   "outputs": [
    {
     "data": {
      "text/plain": [
       "ordinal        49\n",
       "categorical    21\n",
       "numeric         7\n",
       "mixed           7\n",
       "interval        1\n",
       "Name: type, dtype: int64"
      ]
     },
     "metadata": {},
     "output_type": "display_data"
    }
   ],
   "source": [
    "# How many features are there of each data type?\n",
    "display(feat_info.type.value_counts())"
   ]
  },
  {
   "cell_type": "markdown",
   "metadata": {},
   "source": [
    "#### Step 1.2.1: Re-Encode Categorical Features\n",
    "\n",
    "For categorical data, you would ordinarily need to encode the levels as dummy variables. Depending on the number of categories, perform one of the following:\n",
    "- For binary (two-level) categoricals that take numeric values, you can keep them without needing to do anything.\n",
    "- There is one binary variable that takes on non-numeric values. For this one, you need to re-encode the values as numbers or create a dummy variable.\n",
    "- For multi-level categoricals (three or more values), you can choose to encode the values using multiple dummy variables (e.g. via [OneHotEncoder](http://scikit-learn.org/stable/modules/generated/sklearn.preprocessing.OneHotEncoder.html)), or (to keep things straightforward) just drop them from the analysis. As always, document your choices in the Discussion section."
   ]
  },
  {
   "cell_type": "code",
   "execution_count": 20,
   "metadata": {},
   "outputs": [
    {
     "name": "stdout",
     "output_type": "stream",
     "text": [
      "binary : ['ANREDE_KZ', 'GREEN_AVANTGARDE', 'SOHO_KZ', 'VERS_TYP', 'OST_WEST_KZ']\n",
      "multi-level : ['ALTERSKATEGORIE_GROB', 'CJT_GESAMTTYP', 'FINANZ_MINIMALIST', 'FINANZ_SPARER', 'FINANZ_VORSORGER', 'FINANZ_ANLEGER', 'FINANZ_UNAUFFAELLIGER', 'FINANZ_HAUSBAUER', 'FINANZTYP', 'GFK_URLAUBERTYP', 'HEALTH_TYP', 'LP_LEBENSPHASE_FEIN', 'LP_LEBENSPHASE_GROB', 'LP_FAMILIE_FEIN', 'LP_FAMILIE_GROB', 'LP_STATUS_FEIN', 'LP_STATUS_GROB', 'NATIONALITAET_KZ', 'PRAEGENDE_JUGENDJAHRE', 'RETOURTYP_BK_S', 'SEMIO_SOZ', 'SEMIO_FAM', 'SEMIO_REL', 'SEMIO_MAT', 'SEMIO_VERT', 'SEMIO_LUST', 'SEMIO_ERL', 'SEMIO_KULT', 'SEMIO_RAT', 'SEMIO_KRIT', 'SEMIO_DOM', 'SEMIO_KAEM', 'SEMIO_PFLICHT', 'SEMIO_TRADV', 'SHOPPER_TYP', 'ZABEOTYP', 'ANZ_PERSONEN', 'ANZ_TITEL', 'HH_EINKOMMEN_SCORE', 'W_KEIT_KIND_HH', 'WOHNDAUER_2008', 'ANZ_HAUSHALTE_AKTIV', 'ANZ_HH_TITEL', 'GEBAEUDETYP', 'KONSUMNAEHE', 'MIN_GEBAEUDEJAHR', 'WOHNLAGE', 'CAMEO_DEUG_2015', 'CAMEO_DEU_2015', 'CAMEO_INTL_2015', 'KBA05_ANTG1', 'KBA05_ANTG2', 'KBA05_ANTG3', 'KBA05_ANTG4', 'KBA05_GBZ', 'BALLRAUM', 'EWDICHTE', 'INNENSTADT', 'GEBAEUDETYP_RASTER', 'KKK', 'MOBI_REGIO', 'ONLINE_AFFINITAET', 'REGIOTYP', 'KBA13_ANZAHL_PKW', 'PLZ8_ANTG1', 'PLZ8_ANTG2', 'PLZ8_ANTG3', 'PLZ8_ANTG4', 'PLZ8_BAUMAX', 'PLZ8_HHZ', 'PLZ8_GBZ', 'ARBEIT', 'ORTSGR_KLS9', 'RELAT_AB']\n",
      "re-encode : ['OST_WEST_KZ']\n",
      "numeric : ['ANZ_PERSONEN', 'ANZ_TITEL', 'ANZ_HAUSHALTE_AKTIV', 'ANZ_HH_TITEL', 'MIN_GEBAEUDEJAHR', 'KBA13_ANZAHL_PKW']\n"
     ]
    }
   ],
   "source": [
    "# Assess categorical variables: which are binary, which are multi-level, and\n",
    "# which one needs to be re-encoded?\n",
    "cat_cols = [col for col in azdias.columns]\n",
    "\n",
    "answer = {'binary': [], 'multi-level': [], 're-encode':[], 'numeric':[]}\n",
    "for col in cat_cols:\n",
    "    col_vals = azdias[col].dropna().unique()\n",
    "    if len(col_vals) == 2:\n",
    "        answer['binary'].append(col)\n",
    "        try:\n",
    "            int(float(col_vals[0]))\n",
    "        except ValueError:\n",
    "            answer['re-encode'].append(col)\n",
    "    elif len(col_vals) > 2:\n",
    "        if col in feat_info.loc[feat_info.type=='numeric', 'attribute'].values:\n",
    "            answer['numeric'].append(col)\n",
    "        if col in feat_info.loc[feat_info.type=='interval', 'attribute'].values:\n",
    "            answer['numeric'].append(col)\n",
    "        else:\n",
    "            answer['multi-level'].append(col)\n",
    "            \n",
    "for k in answer.keys():\n",
    "    print(k, ':', answer[k])"
   ]
  },
  {
   "cell_type": "code",
   "execution_count": 21,
   "metadata": {},
   "outputs": [
    {
     "data": {
      "text/plain": [
       "<matplotlib.axes._subplots.AxesSubplot at 0x24280374160>"
      ]
     },
     "metadata": {},
     "output_type": "display_data"
    },
    {
     "data": {
      "text/plain": [
       "<matplotlib.axes._subplots.AxesSubplot at 0x24280974400>"
      ]
     },
     "metadata": {},
     "output_type": "display_data"
    },
    {
     "data": {
      "image/png": "[encoded data removed]",
      "text/plain": [
       "<Figure size 648x432 with 2 Axes>"
      ]
     },
     "metadata": {
      "needs_background": "light"
     },
     "output_type": "display_data"
    }
   ],
   "source": [
    "fig, (ax1, ax2) = plt.subplots(2,1,figsize=(9,6), sharey=True)\n",
    "display(azdias['CAMEO_DEU_2015'].value_counts().plot(kind='bar', color='k', ax=ax1))\n",
    "display(azdias['CAMEO_DEUG_2015'].value_counts().plot(kind='bar', color='gray', ax=ax2))\n",
    "ax1.set_title('CAMEO_DEU_2015 detailed Wealth/Life Stage segment counts')\n",
    "ax2.set_title('CAMEO_DEUG_2015 Wealth/Life Stage Class segment counts')\n",
    "plt.tight_layout()\n",
    "plt.show();"
   ]
  },
  {
   "cell_type": "markdown",
   "metadata": {},
   "source": [
    "Some attributes provide redundant information.  For example:\n",
    "* `LP_FAMILIE_GROB` summarizes 11 segments in `LP_FAMILIE_FEIN`\n",
    "* `LP_STATUS_BROB` summarizes 10 segments in `LP_STATUS_FEIN` "
   ]
  },
  {
   "cell_type": "code",
   "execution_count": 22,
   "metadata": {},
   "outputs": [
    {
     "name": "stdout",
     "output_type": "stream",
     "text": [
      "(797837, 75)\n"
     ]
    }
   ],
   "source": [
    "def drop_redundant(df):\n",
    "    \"\"\"All of these columns offer duplicate or summary info for other columns\"\"\"\n",
    "    drop_cols = ['LP_FAMILIE_GROB','LP_STATUS_GROB', 'LP_LEBENSPHASE_GROB', 'LP_FAMILIE_GROB', 'LP_STATUS_GROB',\n",
    "                 'FINANZTYP', 'ALTER_HH']\n",
    "    \"\"\"Drop categories that are redundant\"\"\"\n",
    "    cols = [x for x in df.columns if x in drop_cols]\n",
    "    return df.drop(cols, axis=1)\n",
    "\n",
    "azdias = drop_redundant(azdias)\n",
    "print(azdias.shape)"
   ]
  },
  {
   "cell_type": "code",
   "execution_count": 23,
   "metadata": {},
   "outputs": [
    {
     "name": "stdout",
     "output_type": "stream",
     "text": [
      "(797837, 75)\n"
     ]
    }
   ],
   "source": [
    "def recode_binary(df):\n",
    "    bin_map = {\n",
    "        'ANREDE_KZ': {'1': -1, '2': 1},\n",
    "        'GREEN_AVANTGARDE': {'0': -1, '1': 1},\n",
    "        'SOHO_KZ': {'0': -1, '1': 1},\n",
    "        'VERS_TYP': {'1': -1, '2': 1},\n",
    "        'OST_WEST_KZ': {'O': -1, 'W': 1},\n",
    "        'PLZ8_BAUMAX': {'2': 1, '1': -1, '0': 0, '-1': 0}\n",
    "    }\n",
    "    for col in [x for x in df.columns if x in bin_map.keys()]:\n",
    "        # print(col, np.issubdtype(df[col], np.number)==False, df[col].unique())\n",
    "        if (np.issubdtype(df[col], np.number) == False):\n",
    "            df[col].replace(bin_map[col], inplace=True)\n",
    "    return df\n",
    "\n",
    "azdias = recode_binary(azdias)\n",
    "print(azdias.shape)"
   ]
  },
  {
   "cell_type": "code",
   "execution_count": 24,
   "metadata": {},
   "outputs": [
    {
     "name": "stdout",
     "output_type": "stream",
     "text": [
      "(797837, 223)\n"
     ]
    }
   ],
   "source": [
    "def recode_multi(df):\n",
    "    hot_cols = {'CJT_GESAMTTYP', 'GFK_URLAUBERTYP', 'LP_FAMILIE_FEIN', 'LP_STATUS_FEIN', \n",
    "                'NATIONALITAET_KZ', 'SHOPPER_TYP', 'ZABEOTYP', 'GEBAEUDETYP', \n",
    "                'CAMEO_DEUG_2015', 'CAMEO_DEU_2015', 'LP_LEBENSPHASE_FEIN', 'WOHNLAGE'}\n",
    "    cols = [x for x in df.columns if x in hot_cols]\n",
    "    return pd.get_dummies(df, columns=cols, dummy_na=False)\n",
    "\n",
    "azdias = recode_multi(azdias)\n",
    "print(azdias.shape)"
   ]
  },
  {
   "cell_type": "code",
   "execution_count": 25,
   "metadata": {},
   "outputs": [
    {
     "data": {
      "text/plain": [
       "<matplotlib.axes._subplots.AxesSubplot at 0x2428077bdd8>"
      ]
     },
     "execution_count": 25,
     "metadata": {},
     "output_type": "execute_result"
    },
    {
     "data": {
      "image/png": "[encoded data removed]",
      "text/plain": [
       "<Figure size 432x288 with 1 Axes>"
      ]
     },
     "metadata": {
      "needs_background": "light"
     },
     "output_type": "display_data"
    }
   ],
   "source": [
    "azdias.PLZ8_BAUMAX.hist()"
   ]
  },
  {
   "cell_type": "markdown",
   "metadata": {},
   "source": [
    "#### Discussion 1.2.1: Re-Encode Categorical Features\n",
    "\n",
    "(Double-click this cell and replace this text with your own text, reporting your findings and decisions regarding categorical features. Which ones did you keep, which did you drop, and what engineering steps did you perform?)"
   ]
  },
  {
   "cell_type": "markdown",
   "metadata": {},
   "source": [
    "#### Step 1.2.2: Engineer Mixed-Type Features\n",
    "\n",
    "There are a handful of features that are marked as \"mixed\" in the feature summary that require special treatment in order to be included in the analysis. There are two in particular that deserve attention; the handling of the rest are up to your own choices:\n",
    "- \"PRAEGENDE_JUGENDJAHRE\" combines information on three dimensions: generation by decade, movement (mainstream vs. avantgarde), and nation (east vs. west). While there aren't enough levels to disentangle east from west, you should create two new variables to capture the other two dimensions: an interval-type variable for decade, and a binary variable for movement.\n",
    "- \"CAMEO_INTL_2015\" combines information on two axes: wealth and life stage. Break up the two-digit codes by their 'tens'-place and 'ones'-place digits into two new ordinal variables (which, for the purposes of this project, is equivalent to just treating them as their raw numeric values).\n",
    "- If you decide to keep or engineer new features around the other mixed-type features, make sure you note your steps in the Discussion section.\n",
    "\n",
    "Be sure to check `Data_Dictionary.md` for the details needed to finish these tasks."
   ]
  },
  {
   "cell_type": "code",
   "execution_count": 26,
   "metadata": {},
   "outputs": [
    {
     "name": "stdout",
     "output_type": "stream",
     "text": [
      "(797837, 224)\n"
     ]
    }
   ],
   "source": [
    "# Investigate \"PRAEGENDE_JUGENDJAHRE\" and engineer two new variables.\n",
    "def split_int_move(df):\n",
    "    \"\"\"Split the PRAEGENDE_JUGENDJAHRE field into INTERNAL_TYPE and MOVEMENT then drop the origin field\"\"\"\n",
    "    interval_type = []    # -1: Avantgarde, 0: missing,         1: Mainstream\n",
    "    movement = []         # -1: West,       0: missing/unknown  1: East\n",
    "    \n",
    "    if 'PRAEGENDE_JUGENDJAHRE' in df.columns:\n",
    "        df = df.assign(INTERVAL_TYPE=df['PRAEGENDE_JUGENDJAHRE']\n",
    "                        .replace(to_replace=[1,3,5,8,10,12,14], value=1)\n",
    "                        .replace(to_replace=[2,4,6,7,9,11,13,15], value=-1),\n",
    "                        MOVEMENT=df['PRAEGENDE_JUGENDJAHRE']\n",
    "                        .replace(to_replace=[1,2,3,4,5,8,9,14,15], value=0)\n",
    "                        .replace(to_replace=[6,10,11], value=-1)\n",
    "                        .replace(to_replace=[7,12,13], value=1)\n",
    "                       )\n",
    "        df['INTERVAL_TYPE'].fillna(0, inplace=True)\n",
    "        df['MOVEMENT'].fillna(0, inplace=True)\n",
    "        df.drop('PRAEGENDE_JUGENDJAHRE', axis=1, inplace=True)\n",
    "    return df\n",
    "\n",
    "azdias = split_int_move(azdias)\n",
    "print(azdias.shape)"
   ]
  },
  {
   "cell_type": "code",
   "execution_count": 27,
   "metadata": {},
   "outputs": [
    {
     "name": "stdout",
     "output_type": "stream",
     "text": [
      "(797837, 225)\n"
     ]
    }
   ],
   "source": [
    "# Investigate \"CAMEO_INTL_2015\" and engineer two new variables.\n",
    "def split_wealth_life(df):\n",
    "    if 'CAMEO_INTL_2015' in df.columns:\n",
    "        wealth, life_stage = zip(*df['CAMEO_INTL_2015'].fillna('00').copy().values)\n",
    "        wealth = [int(w) for w in wealth]\n",
    "        life_stage = [int(s) for s in life_stage]\n",
    "        df.drop('CAMEO_INTL_2015', axis=1, inplace=True)\n",
    "        df = df.assign(WEALTH=wealth, LIFE_STAGE=life_stage)\n",
    "    return df\n",
    "\n",
    "azdias = split_wealth_life(azdias)\n",
    "print(azdias.shape)"
   ]
  },
  {
   "cell_type": "markdown",
   "metadata": {},
   "source": [
    "<div class=\"alert alert-block alert-success\">\n",
    "<h4>Discussion 1.2.2: Engineer Mixed-Type Features</h4>\n",
    "\n",
    "Composite variables were split, as instructed.  It appears that the information contained in them, however, may duplicate other fields of information.   At this stage, however, I'll retain them to see how many remain after applying PCA for dimension reduction.  My only concern is that a high degree of multi-colinearity could impact feature selection.\n",
    "\n",
    "The origin columns were dropped, of course.\n",
    "</div>"
   ]
  },
  {
   "cell_type": "markdown",
   "metadata": {},
   "source": [
    "#### Step 1.2.3: Complete Feature Selection\n",
    "\n",
    "In order to finish this step up, you need to make sure that your data frame now only has the columns that you want to keep. To summarize, the dataframe should consist of the following:\n",
    "- All numeric, interval, and ordinal type columns from the original dataset.\n",
    "- Binary categorical features (all numerically-encoded).\n",
    "- Engineered features from other multi-level categorical features and mixed features.\n",
    "\n",
    "Make sure that for any new columns that you have engineered, that you've excluded the original columns from the final dataset. Otherwise, their values will interfere with the analysis later on the project. For example, you should not keep \"PRAEGENDE_JUGENDJAHRE\", since its values won't be useful for the algorithm: only the values derived from it in the engineered features you created should be retained. As a reminder, your data should only be from **the subset with few or no missing values**."
   ]
  },
  {
   "cell_type": "markdown",
   "metadata": {},
   "source": [
    "**Numeric**\n",
    "\n",
    "Confirming that all fields are numeric."
   ]
  },
  {
   "cell_type": "code",
   "execution_count": 28,
   "metadata": {},
   "outputs": [
    {
     "name": "stdout",
     "output_type": "stream",
     "text": [
      "<class 'pandas.core.frame.DataFrame'>\n",
      "Int64Index: 797837 entries, 1 to 891220\n",
      "Columns: 225 entries, ALTERSKATEGORIE_GROB to LIFE_STAGE\n",
      "dtypes: float64(40), int64(25), uint8(160)\n",
      "memory usage: 523.5 MB\n"
     ]
    }
   ],
   "source": [
    "# If there are other re-engineering tasks you need to perform, make sure you\n",
    "# take care of them here. (Dealing with missing data will come in step 2.1.)\n",
    "azdias.info();"
   ]
  },
  {
   "cell_type": "code",
   "execution_count": 29,
   "metadata": {},
   "outputs": [],
   "source": [
    "# Do whatever you need to in order to ensure that the dataframe only contains\n",
    "# the columns that should be passed to the algorithm functions.\n",
    "\n",
    "## Nothing here, but my preference is to drop low variance fields AFTER normalization of values."
   ]
  },
  {
   "cell_type": "markdown",
   "metadata": {},
   "source": [
    "### Step 1.3: Create a Cleaning Function\n",
    "\n",
    "Even though you've finished cleaning up the general population demographics data, it's important to look ahead to the future and realize that you'll need to perform the same cleaning steps on the customer demographics data. In this substep, complete the function below to execute the main feature selection, encoding, and re-engineering steps you performed above. Then, when it comes to looking at the customer data in Step 3, you can just run this function on that DataFrame to get the trimmed dataset in a single step."
   ]
  },
  {
   "cell_type": "code",
   "execution_count": 30,
   "metadata": {},
   "outputs": [],
   "source": [
    "def clean_data(df):\n",
    "    \"\"\"\n",
    "    Perform feature trimming, re-encoding, and engineering for demographics\n",
    "    data\n",
    "    INPUT: Demographics DataFrame\n",
    "    OUTPUT: Trimmed and cleaned demographics DataFrame\n",
    "    \"\"\"\n",
    "    # Put in code here to execute all main cleaning steps:\n",
    "    # convert missing value codes into NaNs, ...\n",
    "    df = missing_to_nan(df, feat_info)\n",
    "#     print('missing_to_nan', df.shape)\n",
    "    # Keep the columns initially retained above during 'training' (aka. outlier columns)\n",
    "    df = df[[c for c in df.columns if c in azdias_clean_cols]]\n",
    "#     print('dropped outlier cols', df.shape)\n",
    "    df = drop_sparse_rows(df, max_na=0.3)\n",
    "#     print('dropped sparse rows', df.shape)\n",
    "    df = drop_redundant(df)\n",
    "#     print('dropped redundant columns', df.shape)\n",
    "    # select, re-encode, and engineer column values.\n",
    "    df = recode_binary(df)\n",
    "    df = recode_multi(df)\n",
    "#     print('after recode', df.shape)\n",
    "    df = split_int_move(df)\n",
    "    df = split_wealth_life(df)\n",
    "#     print('after re-engineer split', df.shape)\n",
    "    # Return the cleaned dataframe.\n",
    "    return df"
   ]
  },
  {
   "cell_type": "markdown",
   "metadata": {},
   "source": [
    "The following cell is to test that the clean_data function produces the same result as following the workbook step-by-step"
   ]
  },
  {
   "cell_type": "code",
   "execution_count": 31,
   "metadata": {},
   "outputs": [],
   "source": [
    "# Verify that the clean_data function results in the same dataset as azdias\n",
    "# test = clean_data(pd.read_csv('Udacity_AZDIAS_Subset.csv', delimiter=';'))\n",
    "\n",
    "# print('test shape:',test.shape,'\\tazdias shape:',azdias.shape)\n",
    "# assert test.shape == azdias.shape, \"Shapes do not match\"\n",
    "\n",
    "#Out:  test shape: (797837, 225) \tazdias shape: (797837, 225)"
   ]
  },
  {
   "cell_type": "markdown",
   "metadata": {},
   "source": [
    "## Step 2: Feature Transformation\n",
    "\n",
    "### Step 2.1: Apply Feature Scaling\n",
    "\n",
    "Before we apply dimensionality reduction techniques to the data, we need to perform feature scaling so that the principal component vectors are not influenced by the natural differences in scale for features. Starting from this part of the project, you'll want to keep an eye on the [API reference page for sklearn](http://scikit-learn.org/stable/modules/classes.html) to help you navigate to all of the classes and functions that you'll need. In this substep, you'll need to check the following:\n",
    "\n",
    "- sklearn requires that data not have missing values in order for its estimators to work properly. So, before applying the scaler to your data, make sure that you've cleaned the DataFrame of the remaining missing values. This can be as simple as just removing all data points with missing data, or applying an [Imputer](http://scikit-learn.org/stable/modules/generated/sklearn.preprocessing.Imputer.html) to replace all missing values. You might also try a more complicated procedure where you temporarily remove missing values in order to compute the scaling parameters before re-introducing those missing values and applying imputation. Think about how much missing data you have and what possible effects each approach might have on your analysis, and justify your decision in the discussion section below.\n",
    "- For the actual scaling function, a [StandardScaler](http://scikit-learn.org/stable/modules/generated/sklearn.preprocessing.StandardScaler.html) instance is suggested, scaling each feature to mean 0 and standard deviation 1.\n",
    "- For these classes, you can make use of the `.fit_transform()` method to both fit a procedure to the data as well as apply the transformation to the data at the same time. Don't forget to keep the fit sklearn objects handy, since you'll be applying them to the customer demographics data towards the end of the project."
   ]
  },
  {
   "cell_type": "code",
   "execution_count": 32,
   "metadata": {},
   "outputs": [
    {
     "data": {
      "text/html": [
       "<div>\n",
       "<style scoped>\n",
       "    .dataframe tbody tr th:only-of-type {\n",
       "        vertical-align: middle;\n",
       "    }\n",
       "\n",
       "    .dataframe tbody tr th {\n",
       "        vertical-align: top;\n",
       "    }\n",
       "\n",
       "    .dataframe thead th {\n",
       "        text-align: right;\n",
       "    }\n",
       "</style>\n",
       "<table border=\"1\" class=\"dataframe\">\n",
       "  <thead>\n",
       "    <tr style=\"text-align: right;\">\n",
       "      <th></th>\n",
       "      <th>nan_count</th>\n",
       "      <th>unique_values</th>\n",
       "    </tr>\n",
       "  </thead>\n",
       "  <tbody>\n",
       "    <tr>\n",
       "      <th>ALTERSKATEGORIE_GROB</th>\n",
       "      <td>2800</td>\n",
       "      <td>[1.0, 3.0, 4.0, 2.0, nan]</td>\n",
       "    </tr>\n",
       "    <tr>\n",
       "      <th>HEALTH_TYP</th>\n",
       "      <td>36644</td>\n",
       "      <td>[3.0, 2.0, 1.0, nan]</td>\n",
       "    </tr>\n",
       "    <tr>\n",
       "      <th>RETOURTYP_BK_S</th>\n",
       "      <td>4666</td>\n",
       "      <td>[1.0, 3.0, 2.0, 5.0, 4.0, nan]</td>\n",
       "    </tr>\n",
       "    <tr>\n",
       "      <th>VERS_TYP</th>\n",
       "      <td>36644</td>\n",
       "      <td>[2.0, 1.0, nan]</td>\n",
       "    </tr>\n",
       "    <tr>\n",
       "      <th>W_KEIT_KIND_HH</th>\n",
       "      <td>59177</td>\n",
       "      <td>[3.0, nan, 2.0, 6.0, 5.0, 4.0, 1.0]</td>\n",
       "    </tr>\n",
       "    <tr>\n",
       "      <th>ANZ_HAUSHALTE_AKTIV</th>\n",
       "      <td>6413</td>\n",
       "      <td>[11.0, 10.0, 1.0, 3.0, 5.0, 4.0, 6.0, 2.0, 9.0...</td>\n",
       "    </tr>\n",
       "    <tr>\n",
       "      <th>ANZ_HH_TITEL</th>\n",
       "      <td>3810</td>\n",
       "      <td>[0.0, 1.0, 5.0, nan, 2.0, 3.0, 7.0, 4.0, 6.0, ...</td>\n",
       "    </tr>\n",
       "    <tr>\n",
       "      <th>KONSUMNAEHE</th>\n",
       "      <td>70</td>\n",
       "      <td>[1.0, 5.0, 4.0, 3.0, 2.0, 6.0, 7.0, nan]</td>\n",
       "    </tr>\n",
       "    <tr>\n",
       "      <th>KBA05_ANTG1</th>\n",
       "      <td>39940</td>\n",
       "      <td>[0.0, 1.0, 4.0, 2.0, 3.0, nan]</td>\n",
       "    </tr>\n",
       "    <tr>\n",
       "      <th>KBA05_ANTG2</th>\n",
       "      <td>39940</td>\n",
       "      <td>[0.0, 3.0, 1.0, 4.0, 2.0, nan]</td>\n",
       "    </tr>\n",
       "    <tr>\n",
       "      <th>KBA05_ANTG3</th>\n",
       "      <td>39940</td>\n",
       "      <td>[0.0, 1.0, nan, 2.0, 3.0]</td>\n",
       "    </tr>\n",
       "    <tr>\n",
       "      <th>KBA05_ANTG4</th>\n",
       "      <td>39940</td>\n",
       "      <td>[2.0, 0.0, nan, 1.0]</td>\n",
       "    </tr>\n",
       "    <tr>\n",
       "      <th>KBA05_GBZ</th>\n",
       "      <td>39940</td>\n",
       "      <td>[1.0, 3.0, 4.0, 5.0, 2.0, nan]</td>\n",
       "    </tr>\n",
       "    <tr>\n",
       "      <th>BALLRAUM</th>\n",
       "      <td>592</td>\n",
       "      <td>[6.0, 2.0, 4.0, 3.0, 7.0, 1.0, 5.0, nan]</td>\n",
       "    </tr>\n",
       "    <tr>\n",
       "      <th>EWDICHTE</th>\n",
       "      <td>592</td>\n",
       "      <td>[3.0, 4.0, 2.0, 5.0, 6.0, 1.0, nan]</td>\n",
       "    </tr>\n",
       "    <tr>\n",
       "      <th>INNENSTADT</th>\n",
       "      <td>592</td>\n",
       "      <td>[8.0, 4.0, 6.0, 1.0, 7.0, 3.0, 2.0, 5.0, nan]</td>\n",
       "    </tr>\n",
       "    <tr>\n",
       "      <th>GEBAEUDETYP_RASTER</th>\n",
       "      <td>7</td>\n",
       "      <td>[3.0, 4.0, 5.0, 1.0, 2.0, nan]</td>\n",
       "    </tr>\n",
       "    <tr>\n",
       "      <th>KKK</th>\n",
       "      <td>64718</td>\n",
       "      <td>[2.0, nan, 3.0, 4.0, 1.0]</td>\n",
       "    </tr>\n",
       "    <tr>\n",
       "      <th>MOBI_REGIO</th>\n",
       "      <td>39940</td>\n",
       "      <td>[1.0, 3.0, 4.0, 5.0, nan, 2.0, 6.0]</td>\n",
       "    </tr>\n",
       "    <tr>\n",
       "      <th>ONLINE_AFFINITAET</th>\n",
       "      <td>4666</td>\n",
       "      <td>[3.0, 2.0, 1.0, 5.0, 4.0, 0.0, nan]</td>\n",
       "    </tr>\n",
       "    <tr>\n",
       "      <th>REGIOTYP</th>\n",
       "      <td>64718</td>\n",
       "      <td>[3.0, 2.0, nan, 5.0, 1.0, 7.0, 6.0, 4.0]</td>\n",
       "    </tr>\n",
       "    <tr>\n",
       "      <th>KBA13_ANZAHL_PKW</th>\n",
       "      <td>12474</td>\n",
       "      <td>[963.0, 712.0, 596.0, 435.0, 1300.0, 867.0, 75...</td>\n",
       "    </tr>\n",
       "    <tr>\n",
       "      <th>PLZ8_ANTG1</th>\n",
       "      <td>23132</td>\n",
       "      <td>[2.0, 3.0, nan, 1.0, 4.0, 0.0]</td>\n",
       "    </tr>\n",
       "    <tr>\n",
       "      <th>PLZ8_ANTG2</th>\n",
       "      <td>23132</td>\n",
       "      <td>[3.0, 2.0, 4.0, 1.0, nan, 0.0]</td>\n",
       "    </tr>\n",
       "    <tr>\n",
       "      <th>PLZ8_ANTG3</th>\n",
       "      <td>23132</td>\n",
       "      <td>[2.0, 1.0, nan, 3.0, 0.0]</td>\n",
       "    </tr>\n",
       "    <tr>\n",
       "      <th>PLZ8_ANTG4</th>\n",
       "      <td>23132</td>\n",
       "      <td>[1.0, 0.0, nan, 2.0]</td>\n",
       "    </tr>\n",
       "    <tr>\n",
       "      <th>PLZ8_BAUMAX</th>\n",
       "      <td>23132</td>\n",
       "      <td>[1.0, 2.0, nan, 4.0, 5.0, 3.0]</td>\n",
       "    </tr>\n",
       "    <tr>\n",
       "      <th>PLZ8_HHZ</th>\n",
       "      <td>23132</td>\n",
       "      <td>[5.0, 4.0, 3.0, nan, 2.0, 1.0]</td>\n",
       "    </tr>\n",
       "    <tr>\n",
       "      <th>PLZ8_GBZ</th>\n",
       "      <td>23132</td>\n",
       "      <td>[4.0, 3.0, 5.0, nan, 2.0, 1.0]</td>\n",
       "    </tr>\n",
       "    <tr>\n",
       "      <th>ARBEIT</th>\n",
       "      <td>4224</td>\n",
       "      <td>[3.0, 2.0, 4.0, 1.0, 5.0, nan]</td>\n",
       "    </tr>\n",
       "    <tr>\n",
       "      <th>ORTSGR_KLS9</th>\n",
       "      <td>4123</td>\n",
       "      <td>[5.0, 3.0, 6.0, 4.0, 8.0, 2.0, 7.0, 9.0, 1.0, ...</td>\n",
       "    </tr>\n",
       "    <tr>\n",
       "      <th>RELAT_AB</th>\n",
       "      <td>4224</td>\n",
       "      <td>[4.0, 2.0, 3.0, 5.0, 1.0, nan]</td>\n",
       "    </tr>\n",
       "  </tbody>\n",
       "</table>\n",
       "</div>"
      ],
      "text/plain": [
       "                      nan_count  \\\n",
       "ALTERSKATEGORIE_GROB       2800   \n",
       "HEALTH_TYP                36644   \n",
       "RETOURTYP_BK_S             4666   \n",
       "VERS_TYP                  36644   \n",
       "W_KEIT_KIND_HH            59177   \n",
       "ANZ_HAUSHALTE_AKTIV        6413   \n",
       "ANZ_HH_TITEL               3810   \n",
       "KONSUMNAEHE                  70   \n",
       "KBA05_ANTG1               39940   \n",
       "KBA05_ANTG2               39940   \n",
       "KBA05_ANTG3               39940   \n",
       "KBA05_ANTG4               39940   \n",
       "KBA05_GBZ                 39940   \n",
       "BALLRAUM                    592   \n",
       "EWDICHTE                    592   \n",
       "INNENSTADT                  592   \n",
       "GEBAEUDETYP_RASTER            7   \n",
       "KKK                       64718   \n",
       "MOBI_REGIO                39940   \n",
       "ONLINE_AFFINITAET          4666   \n",
       "REGIOTYP                  64718   \n",
       "KBA13_ANZAHL_PKW          12474   \n",
       "PLZ8_ANTG1                23132   \n",
       "PLZ8_ANTG2                23132   \n",
       "PLZ8_ANTG3                23132   \n",
       "PLZ8_ANTG4                23132   \n",
       "PLZ8_BAUMAX               23132   \n",
       "PLZ8_HHZ                  23132   \n",
       "PLZ8_GBZ                  23132   \n",
       "ARBEIT                     4224   \n",
       "ORTSGR_KLS9                4123   \n",
       "RELAT_AB                   4224   \n",
       "\n",
       "                                                          unique_values  \n",
       "ALTERSKATEGORIE_GROB                          [1.0, 3.0, 4.0, 2.0, nan]  \n",
       "HEALTH_TYP                                         [3.0, 2.0, 1.0, nan]  \n",
       "RETOURTYP_BK_S                           [1.0, 3.0, 2.0, 5.0, 4.0, nan]  \n",
       "VERS_TYP                                                [2.0, 1.0, nan]  \n",
       "W_KEIT_KIND_HH                      [3.0, nan, 2.0, 6.0, 5.0, 4.0, 1.0]  \n",
       "ANZ_HAUSHALTE_AKTIV   [11.0, 10.0, 1.0, 3.0, 5.0, 4.0, 6.0, 2.0, 9.0...  \n",
       "ANZ_HH_TITEL          [0.0, 1.0, 5.0, nan, 2.0, 3.0, 7.0, 4.0, 6.0, ...  \n",
       "KONSUMNAEHE                    [1.0, 5.0, 4.0, 3.0, 2.0, 6.0, 7.0, nan]  \n",
       "KBA05_ANTG1                              [0.0, 1.0, 4.0, 2.0, 3.0, nan]  \n",
       "KBA05_ANTG2                              [0.0, 3.0, 1.0, 4.0, 2.0, nan]  \n",
       "KBA05_ANTG3                                   [0.0, 1.0, nan, 2.0, 3.0]  \n",
       "KBA05_ANTG4                                        [2.0, 0.0, nan, 1.0]  \n",
       "KBA05_GBZ                                [1.0, 3.0, 4.0, 5.0, 2.0, nan]  \n",
       "BALLRAUM                       [6.0, 2.0, 4.0, 3.0, 7.0, 1.0, 5.0, nan]  \n",
       "EWDICHTE                            [3.0, 4.0, 2.0, 5.0, 6.0, 1.0, nan]  \n",
       "INNENSTADT                [8.0, 4.0, 6.0, 1.0, 7.0, 3.0, 2.0, 5.0, nan]  \n",
       "GEBAEUDETYP_RASTER                       [3.0, 4.0, 5.0, 1.0, 2.0, nan]  \n",
       "KKK                                           [2.0, nan, 3.0, 4.0, 1.0]  \n",
       "MOBI_REGIO                          [1.0, 3.0, 4.0, 5.0, nan, 2.0, 6.0]  \n",
       "ONLINE_AFFINITAET                   [3.0, 2.0, 1.0, 5.0, 4.0, 0.0, nan]  \n",
       "REGIOTYP                       [3.0, 2.0, nan, 5.0, 1.0, 7.0, 6.0, 4.0]  \n",
       "KBA13_ANZAHL_PKW      [963.0, 712.0, 596.0, 435.0, 1300.0, 867.0, 75...  \n",
       "PLZ8_ANTG1                               [2.0, 3.0, nan, 1.0, 4.0, 0.0]  \n",
       "PLZ8_ANTG2                               [3.0, 2.0, 4.0, 1.0, nan, 0.0]  \n",
       "PLZ8_ANTG3                                    [2.0, 1.0, nan, 3.0, 0.0]  \n",
       "PLZ8_ANTG4                                         [1.0, 0.0, nan, 2.0]  \n",
       "PLZ8_BAUMAX                              [1.0, 2.0, nan, 4.0, 5.0, 3.0]  \n",
       "PLZ8_HHZ                                 [5.0, 4.0, 3.0, nan, 2.0, 1.0]  \n",
       "PLZ8_GBZ                                 [4.0, 3.0, 5.0, nan, 2.0, 1.0]  \n",
       "ARBEIT                                   [3.0, 2.0, 4.0, 1.0, 5.0, nan]  \n",
       "ORTSGR_KLS9           [5.0, 3.0, 6.0, 4.0, 8.0, 2.0, 7.0, 9.0, 1.0, ...  \n",
       "RELAT_AB                                 [4.0, 2.0, 3.0, 5.0, 1.0, nan]  "
      ]
     },
     "metadata": {},
     "output_type": "display_data"
    }
   ],
   "source": [
    "# If you've not yet cleaned the dataset of all NaN values, then investigate and\n",
    "# do that now.\n",
    "def get_nan_cols(df):\n",
    "    col_nans = df.isna().sum()\n",
    "    col_nans = col_nans[col_nans > 0]\n",
    "    col_nans = pd.DataFrame(col_nans, columns=['nan_count']).assign(unique_values=[df[c].unique() for c in col_nans.index.values])\n",
    "    return col_nans\n",
    "display(get_nan_cols(azdias))"
   ]
  },
  {
   "cell_type": "code",
   "execution_count": 33,
   "metadata": {},
   "outputs": [],
   "source": [
    "# Apply feature scaling to the general population demographics data.\n",
    "def scale_df(df):\n",
    "    col_scaler = {}\n",
    "    na_values = df.isnull()\n",
    "    \n",
    "    # 1. fit a scaler for each column by leaving out null values\n",
    "    # 2. transform the column values using the trained scaler\n",
    "    for col in df.columns:\n",
    "        col_scaler[col] = StandardScaler().fit(df.loc[~na_values[col], [col]])\n",
    "        df.loc[~na_values[col], [col]] = col_scaler[col].transform(df.loc[~na_values[col], [col]])\n",
    "    return df, col_scaler\n",
    "\n",
    "azdias_scaled, col_scalers = scale_df(azdias)\n",
    "\n",
    "# StandardScaler makes the mean of each column zero. Impute NaN as 0.\n",
    "azdias_scaled.fillna(0, inplace=True)"
   ]
  },
  {
   "cell_type": "markdown",
   "metadata": {},
   "source": [
    "### Discussion 2.1: Apply Feature Scaling\n",
    "\n",
    "StandardScaler applied to make imputing with mean easy, as well as making PCA work properly (similar scales and distribution for all features).\n",
    "\n",
    "Imputing with the mean as simple as filling na with zero after scaling."
   ]
  },
  {
   "cell_type": "markdown",
   "metadata": {},
   "source": [
    "### Step 2.2: Perform Dimensionality Reduction\n",
    "\n",
    "On your scaled data, you are now ready to apply dimensionality reduction techniques.\n",
    "\n",
    "- Use sklearn's [PCA](http://scikit-learn.org/stable/modules/generated/sklearn.decomposition.PCA.html) class to apply principal component analysis on the data, thus finding the vectors of maximal variance in the data. To start, you should not set any parameters (so all components are computed) or set a number of components that is at least half the number of features (so there's enough features to see the general trend in variability).\n",
    "- Check out the ratio of variance explained by each principal component as well as the cumulative variance explained. Try plotting the cumulative or sequential values using matplotlib's [`plot()`](https://matplotlib.org/api/_as_gen/matplotlib.pyplot.plot.html) function. Based on what you find, select a value for the number of transformed features you'll retain for the clustering part of the project.\n",
    "- Once you've made a choice for the number of components to keep, make sure you re-fit a PCA instance to perform the decided-on transformation."
   ]
  },
  {
   "cell_type": "code",
   "execution_count": 34,
   "metadata": {},
   "outputs": [],
   "source": [
    "# Apply PCA to the data.\n",
    "# n_components as a float between 0 and 1 indicates the amount of explained variance to retain\n",
    "\n",
    "pca = PCA(n_components=.99)\n",
    "pca.fit(azdias_scaled)\n",
    "X_pca = pca.transform(azdias_scaled)"
   ]
  },
  {
   "cell_type": "code",
   "execution_count": 35,
   "metadata": {},
   "outputs": [
    {
     "name": "stdout",
     "output_type": "stream",
     "text": [
      "original features: 225\n",
      "reduced features: 180\n"
     ]
    }
   ],
   "source": [
    "print('original features:', azdias_scaled.shape[1])\n",
    "print('reduced features:', X_pca.shape[1])"
   ]
  },
  {
   "cell_type": "code",
   "execution_count": 36,
   "metadata": {},
   "outputs": [
    {
     "data": {
      "image/png": "[encoded data removed]",
      "text/plain": [
       "<Figure size 720x432 with 1 Axes>"
      ]
     },
     "metadata": {
      "needs_background": "light"
     },
     "output_type": "display_data"
    }
   ],
   "source": [
    "# Investigate the variance accounted for by each principal component.\n",
    "def scree_plot(pca):\n",
    "    \"\"\"\n",
    "    Creates a scree plot associated with principal components (from part 13 Screencast)\n",
    "    \"\"\"\n",
    "    num_components = len(pca.explained_variance_ratio_)\n",
    "    ind = np.arange(num_components)\n",
    "    vals = pca.explained_variance_ratio_\n",
    "    \n",
    "    plt.figure(figsize=(10, 6))\n",
    "    ax = plt.subplot(111)\n",
    "    cumvals = np.cumsum(vals)\n",
    "    ax.bar(ind, vals)\n",
    "    ax.plot(ind, cumvals)\n",
    "#     for i in range(num_components):\n",
    "#         ax.annotate(r\"%s%%\" % ((str(vals[i]*100)[:4])), (ind[i]+0.2, vals[i]), va=\"bottom\", ha=\"center\", fontsize=12)\n",
    " \n",
    "    ax.xaxis.set_tick_params(width=0)\n",
    "    ax.yaxis.set_tick_params(width=2, length=12)\n",
    " \n",
    "    ax.set_xlabel(\"Principal Component\")\n",
    "    ax.set_ylabel(\"Variance Explained (%)\")\n",
    "    plt.title('Explained Variance Per Principal Component')\n",
    "    \n",
    "scree_plot(pca)"
   ]
  },
  {
   "cell_type": "code",
   "execution_count": 37,
   "metadata": {},
   "outputs": [
    {
     "data": {
      "image/png": "[encoded data removed]",
      "text/plain": [
       "<Figure size 720x432 with 1 Axes>"
      ]
     },
     "metadata": {
      "needs_background": "light"
     },
     "output_type": "display_data"
    }
   ],
   "source": [
    "# Re-apply PCA to the data while selecting for number of components to retain.\n",
    "pca = PCA(n_components=180)\n",
    "pca.fit(azdias_scaled)\n",
    "X_pca = pca.transform(azdias_scaled)\n",
    "\n",
    "scree_plot(pca)"
   ]
  },
  {
   "cell_type": "markdown",
   "metadata": {},
   "source": [
    "### Discussion 2.2: Perform Dimensionality Reduction\n",
    "\n",
    "While there is no 'silver bullet' component, almost 40% of the variance is explained by less than 50 components.  180 are retained, since that number of components retains about 99% of original variance. (a reduction from 225 features; that's a 20% reduction in features for a 1% drop in explained variance)."
   ]
  },
  {
   "cell_type": "markdown",
   "metadata": {},
   "source": [
    "### Step 2.3: Interpret Principal Components\n",
    "\n",
    "Now that we have our transformed principal components, it's a nice idea to check out the weight of each variable on the first few components to see if they can be interpreted in some fashion.\n",
    "\n",
    "As a reminder, each principal component is a unit vector that points in the direction of highest variance (after accounting for the variance captured by earlier principal components). The further a weight is from zero, the more the principal component is in the direction of the corresponding feature. If two features have large weights of the same sign (both positive or both negative), then increases in one tend expect to be associated with increases in the other. To contrast, features with different signs can be expected to show a negative correlation: increases in one variable should result in a decrease in the other.\n",
    "\n",
    "- To investigate the features, you should map each weight to their corresponding feature name, then sort the features according to weight. The most interesting features for each principal component, then, will be those at the beginning and end of the sorted list. Use the data dictionary document to help you understand these most prominent features, their relationships, and what a positive or negative value on the principal component might indicate.\n",
    "- You should investigate and interpret feature associations from the first three principal components in this substep. To help facilitate this, you should write a function that you can call at any time to print the sorted list of feature weights, for the *i*-th principal component. This might come in handy in the next step of the project, when you interpret the tendencies of the discovered clusters."
   ]
  },
  {
   "cell_type": "code",
   "execution_count": 38,
   "metadata": {},
   "outputs": [],
   "source": [
    "def pca_weights(full_dataset, pca, component=1):\n",
    "    \"\"\"Prints list of features sorted by weight, descending order\"\"\"\n",
    "    components = pd.DataFrame(np.round(pca.components_, 4), columns = full_dataset.keys())\n",
    "    return (components.loc[component-1].sort_values(ascending=False))"
   ]
  },
  {
   "cell_type": "code",
   "execution_count": 39,
   "metadata": {},
   "outputs": [
    {
     "name": "stdout",
     "output_type": "stream",
     "text": [
      "PLZ8_ANTG3            0.1913\n",
      "WEALTH                0.1904\n",
      "PLZ8_ANTG4            0.1862\n",
      "HH_EINKOMMEN_SCORE    0.1858\n",
      "PLZ8_BAUMAX           0.1820\n",
      "ORTSGR_KLS9           0.1685\n",
      "EWDICHTE              0.1663\n",
      "FINANZ_HAUSBAUER      0.1523\n",
      "LP_STATUS_FEIN_1.0    0.1346\n",
      "PLZ8_ANTG2            0.1301\n",
      "Name: 0, dtype: float64 \n",
      " LP_STATUS_FEIN_9.0   -0.1099\n",
      "WOHNLAGE_7.0         -0.1132\n",
      "INNENSTADT           -0.1380\n",
      "PLZ8_GBZ             -0.1418\n",
      "KONSUMNAEHE          -0.1452\n",
      "FINANZ_MINIMALIST    -0.1785\n",
      "KBA05_GBZ            -0.1827\n",
      "KBA05_ANTG1          -0.1912\n",
      "PLZ8_ANTG1           -0.1918\n",
      "MOBI_REGIO           -0.2052\n",
      "Name: 0, dtype: float64\n"
     ]
    }
   ],
   "source": [
    "# Map weights for the first principal component to corresponding feature names\n",
    "# and then print the linked values, sorted by weight.\n",
    "# HINT: Try defining a function here or in a new cell that you can reuse in the\n",
    "# other cells.\n",
    "weights1 = pca_weights(azdias_scaled, pca, 1)\n",
    "print(weights1[:10], '\\n', weights1[-10:])"
   ]
  },
  {
   "cell_type": "code",
   "execution_count": 40,
   "metadata": {},
   "outputs": [
    {
     "name": "stdout",
     "output_type": "stream",
     "text": [
      "ALTERSKATEGORIE_GROB       0.2491\n",
      "FINANZ_VORSORGER           0.2287\n",
      "ZABEOTYP_3                 0.2085\n",
      "SEMIO_ERL                  0.2011\n",
      "SEMIO_LUST                 0.1741\n",
      "RETOURTYP_BK_S             0.1564\n",
      "CJT_GESAMTTYP_2.0          0.1154\n",
      "W_KEIT_KIND_HH             0.1119\n",
      "LP_LEBENSPHASE_FEIN_6.0    0.1084\n",
      "FINANZ_MINIMALIST          0.1026\n",
      "Name: 1, dtype: float64 \n",
      " ONLINE_AFFINITAET       -0.1560\n",
      "SEMIO_FAM               -0.1567\n",
      "SEMIO_RAT               -0.1759\n",
      "SEMIO_KULT              -0.1875\n",
      "FINANZ_ANLEGER          -0.2063\n",
      "FINANZ_UNAUFFAELLIGER   -0.2187\n",
      "SEMIO_PFLICHT           -0.2214\n",
      "SEMIO_TRADV             -0.2227\n",
      "SEMIO_REL               -0.2360\n",
      "FINANZ_SPARER           -0.2394\n",
      "Name: 1, dtype: float64\n"
     ]
    }
   ],
   "source": [
    "# Map weights for the second principal component to corresponding feature names\n",
    "# and then print the linked values, sorted by weight.\n",
    "weights2 = pca_weights(azdias_scaled, pca, 2)\n",
    "print(weights2[:10], '\\n', weights2[-10:])"
   ]
  },
  {
   "cell_type": "code",
   "execution_count": 41,
   "metadata": {},
   "outputs": [
    {
     "name": "stdout",
     "output_type": "stream",
     "text": [
      "SEMIO_VERT           0.3247\n",
      "SEMIO_SOZ            0.2568\n",
      "SEMIO_FAM            0.2518\n",
      "SEMIO_KULT           0.2404\n",
      "FINANZ_MINIMALIST    0.1443\n",
      "SHOPPER_TYP_0.0      0.1245\n",
      "ZABEOTYP_1           0.1204\n",
      "SEMIO_REL            0.0944\n",
      "RETOURTYP_BK_S       0.0862\n",
      "GREEN_AVANTGARDE     0.0808\n",
      "Name: 2, dtype: float64 \n",
      " INTERVAL_TYPE        -0.0752\n",
      "LP_STATUS_FEIN_2.0   -0.0908\n",
      "SHOPPER_TYP_2.0      -0.0979\n",
      "FINANZ_ANLEGER       -0.1682\n",
      "SEMIO_RAT            -0.1760\n",
      "SEMIO_ERL            -0.1946\n",
      "SEMIO_KRIT           -0.2684\n",
      "SEMIO_DOM            -0.2891\n",
      "SEMIO_KAEM           -0.3181\n",
      "ANREDE_KZ            -0.3487\n",
      "Name: 2, dtype: float64\n"
     ]
    }
   ],
   "source": [
    "# Map weights for the third principal component to corresponding feature names\n",
    "# and then print the linked values, sorted by weight.\n",
    "weights3 = pca_weights(azdias_scaled, pca, 3)\n",
    "print(weights3[:10], '\\n', weights3[-10:])"
   ]
  },
  {
   "cell_type": "markdown",
   "metadata": {},
   "source": [
    "### Discussion 2.3: Interpret Principal Components\n",
    "Top 10 and bottom 10 weights were reviewed to identify strongest traint/anti-traits.\n",
    "\n",
    "#### PC 0 : Mobile inner city dwelling low income earners\n",
    "    * Higher density housing, large buildings\n",
    "    * Non-rural neighborhoods (city)\n",
    "    * Low income\n",
    "    * Large community\n",
    "    * High movement patterns\n",
    "\n",
    "#### PC 1 : Financially sound 'golden years' consumers in/near retirement\n",
    "    * Older, maybe retired\n",
    "    * No children in household\n",
    "    * Not religious\n",
    "    * Not a money saver, traditional consumer\n",
    "\n",
    "#### PC 2 : Community, society and family centered conformist\n",
    "    * Cultral, social and family oriented\n",
    "    * Environmentally sensitive\n",
    "    * Religous or spiritual\n",
    "    * Not combative, dominant or critical"
   ]
  },
  {
   "cell_type": "markdown",
   "metadata": {},
   "source": [
    "## Step 3: Clustering\n",
    "\n",
    "### Step 3.1: Apply Clustering to General Population\n",
    "\n",
    "You've assessed and cleaned the demographics data, then scaled and transformed them. Now, it's time to see how the data clusters in the principal components space. In this substep, you will apply k-means clustering to the dataset and use the average within-cluster distances from each point to their assigned cluster's centroid to decide on a number of clusters to keep.\n",
    "\n",
    "- Use sklearn's [KMeans](http://scikit-learn.org/stable/modules/generated/sklearn.cluster.KMeans.html#sklearn.cluster.KMeans) class to perform k-means clustering on the PCA-transformed data.\n",
    "- Then, compute the average difference from each point to its assigned cluster's center. **Hint**: The KMeans object's `.score()` method might be useful here, but note that in sklearn, scores tend to be defined so that larger is better. Try applying it to a small, toy dataset, or use an internet search to help your understanding.\n",
    "- Perform the above two steps for a number of different cluster counts. You can then see how the average distance decreases with an increasing number of clusters. However, each additional cluster provides a smaller net benefit. Use this fact to select a final number of clusters in which to group the data. **Warning**: because of the large size of the dataset, it can take a long time for the algorithm to resolve. The more clusters to fit, the longer the algorithm will take. You should test for cluster counts through at least 10 clusters to get the full picture, but you shouldn't need to test for a number of clusters above about 30.\n",
    "- Once you've selected a final number of clusters to use, re-fit a KMeans instance to perform the clustering operation. Make sure that you also obtain the cluster assignments for the general demographics data, since you'll be using them in the final Step 3.3."
   ]
  },
  {
   "cell_type": "code",
   "execution_count": 42,
   "metadata": {},
   "outputs": [],
   "source": [
    "azdias_Xpca = X_pca"
   ]
  },
  {
   "cell_type": "code",
   "execution_count": 43,
   "metadata": {},
   "outputs": [
    {
     "data": {
      "text/plain": [
       "[<matplotlib.lines.Line2D at 0x2428035cfd0>]"
      ]
     },
     "execution_count": 43,
     "metadata": {},
     "output_type": "execute_result"
    },
    {
     "data": {
      "image/png": "[encoded data removed]",
      "text/plain": [
       "<Figure size 792x576 with 1 Axes>"
      ]
     },
     "metadata": {
      "needs_background": "light"
     },
     "output_type": "display_data"
    }
   ],
   "source": [
    "# Over a number of different cluster counts...\n",
    "k_range = range(1,51)\n",
    "\n",
    "# run k-means clustering on the data and...\n",
    "k_means_var = [MiniBatchKMeans(n_clusters=k, random_state=42, batch_size=5000).fit(azdias_Xpca) for k in k_range]\n",
    "\n",
    "# compute the average within-cluster distances\n",
    "mean_wcd = [np.sqrt(-X.score(azdias_Xpca)/len(azdias_Xpca)) for X in k_means_var]\n",
    "\n",
    "# Investigate the change in within-cluster distance across number of clusters.\n",
    "# HINT: Use matplotlib's plot function to visualize this relationship.\n",
    "plt.figure(figsize=(11,8))\n",
    "ax = plt.subplot(111)\n",
    "ax.plot([X.n_clusters for X in k_means_var], [y for y in mean_wcd])"
   ]
  },
  {
   "cell_type": "code",
   "execution_count": 44,
   "metadata": {},
   "outputs": [],
   "source": [
    "# Re-fit the k-means model with the selected number of clusters and obtain\n",
    "# cluster predictions for the general population demographics data.\n",
    "k_means = MiniBatchKMeans(n_clusters=9, batch_size=5000).fit(azdias_Xpca)\n",
    "azdias_clusters = k_means.predict(azdias_Xpca)"
   ]
  },
  {
   "cell_type": "markdown",
   "metadata": {},
   "source": [
    "### Discussion 3.1: Apply Clustering to General Population\n",
    "\n",
    "Since there are more than 10,000 vectors, I used MiniBatchKMeans.  The mean within-cluster distance is calculatred form the score by dividing by the negative length (since it's a loss score), then taking the square root.\n",
    "\n",
    "I then took the reduction rate (from the plot data) to determine that more than 9 clusters slows the rate of improvement, so 9 is chosen."
   ]
  },
  {
   "cell_type": "markdown",
   "metadata": {},
   "source": [
    "### Step 3.2: Apply All Steps to the Customer Data\n",
    "\n",
    "Now that you have clusters and cluster centers for the general population, it's time to see how the customer data maps on to those clusters. Take care to not confuse this for re-fitting all of the models to the customer data. Instead, you're going to use the fits from the general population to clean, transform, and cluster the customer data. In the last step of the project, you will interpret how the general population fits apply to the customer data.\n",
    "\n",
    "- Don't forget when loading in the customers data, that it is semicolon (`;`) delimited.\n",
    "- Apply the same feature wrangling, selection, and engineering steps to the customer demographics using the `clean_data()` function you created earlier. (You can assume that the customer demographics data has similar meaning behind missing data patterns as the general demographics data.)\n",
    "- Use the sklearn objects from the general demographics data, and apply their transformations to the customers data. That is, you should not be using a `.fit()` or `.fit_transform()` method to re-fit the old objects, nor should you be creating new sklearn objects! Carry the data through the feature scaling, PCA, and clustering steps, obtaining cluster assignments for all of the data in the customer demographics data."
   ]
  },
  {
   "cell_type": "code",
   "execution_count": 45,
   "metadata": {},
   "outputs": [],
   "source": [
    "# Load in the customer demographics data.\n",
    "customers = clean_data(pd.read_csv('Udacity_CUSTOMERS_Subset.csv', delimiter=';'))"
   ]
  },
  {
   "cell_type": "code",
   "execution_count": 46,
   "metadata": {},
   "outputs": [],
   "source": [
    "# Apply preprocessing, feature transformation, and clustering from the general\n",
    "# demographics onto the customer data, obtaining cluster predictions for the\n",
    "# customer demographics data.\n",
    "cust_scaled, cust_scalers = scale_df(customers)\n",
    "\n",
    "# Making sure every column that exists in the azdias set is in the cust_scaled set, with value 0\n",
    "for col in [col for col in azdias.columns if col not in cust_scaled.columns]:\n",
    "    cust_scaled[col] = 0\n",
    "\n",
    "# StandardScaler makes the mean of each column zero. Impute NaN as 0.\n",
    "cust_scaled.fillna(0, inplace=True)\n",
    "cust_Xpca = pca.transform(cust_scaled)\n",
    "\n",
    "customer_clusters = k_means.predict(cust_Xpca)"
   ]
  },
  {
   "cell_type": "code",
   "execution_count": 57,
   "metadata": {},
   "outputs": [
    {
     "name": "stdout",
     "output_type": "stream",
     "text": [
      "azdias: (797837,) [7 3 0 5 3 3 6 2 3 5 8 3 5 3 3 2 3 1 1 2 6 8 1 3 2 1 6 5 2 5]\n",
      "customers: (141690,) [2 5 0 1 3 2 2 5 6 6 8 8 5 2 2 6 1 3 2 5 3 1 0 8 0 3 5 5 3 8]\n"
     ]
    }
   ],
   "source": [
    "print('azdias:', azdias_clusters.shape, azdias_clusters[:30])\n",
    "print('customers:',customer_clusters.shape, customer_clusters[:30])"
   ]
  },
  {
   "cell_type": "markdown",
   "metadata": {},
   "source": [
    "### Step 3.3: Compare Customer Data to Demographics Data\n",
    "\n",
    "At this point, you have clustered data based on demographics of the general population of Germany, and seen how the customer data for a mail-order sales company maps onto those demographic clusters. In this final substep, you will compare the two cluster distributions to see where the strongest customer base for the company is.\n",
    "\n",
    "Consider the proportion of persons in each cluster for the general population, and the proportions for the customers. If we think the company's customer base to be universal, then the cluster assignment proportions should be fairly similar between the two. If there are only particular segments of the population that are interested in the company's products, then we should see a mismatch from one to the other. If there is a higher proportion of persons in a cluster for the customer data compared to the general population (e.g. 5% of persons are assigned to a cluster for the general population, but 15% of the customer data is closest to that cluster's centroid) then that suggests the people in that cluster to be a target audience for the company. On the other hand, the proportion of the data in a cluster being larger in the general population than the customer data (e.g. only 2% of customers closest to a population centroid that captures 6% of the data) suggests that group of persons to be outside of the target demographics.\n",
    "\n",
    "Take a look at the following points in this step:\n",
    "\n",
    "- Compute the proportion of data points in each cluster for the general population and the customer data. Visualizations will be useful here: both for the individual dataset proportions, but also to visualize the ratios in cluster representation between groups. Seaborn's [`countplot()`](https://seaborn.pydata.org/generated/seaborn.countplot.html) or [`barplot()`](https://seaborn.pydata.org/generated/seaborn.barplot.html) function could be handy.\n",
    "  - Recall the analysis you performed in step 1.1.3 of the project, where you separated out certain data points from the dataset if they had more than a specified threshold of missing values. If you found that this group was qualitatively different from the main bulk of the data, you should treat this as an additional data cluster in this analysis. Make sure that you account for the number of data points in this subset, for both the general population and customer datasets, when making your computations!\n",
    "- Which cluster or clusters are overrepresented in the customer dataset compared to the general population? Select at least one such cluster and infer what kind of people might be represented by that cluster. Use the principal component interpretations from step 2.3 or look at additional components to help you make this inference. Alternatively, you can use the `.inverse_transform()` method of the PCA and StandardScaler objects to transform centroids back to the original data space and interpret the retrieved values directly.\n",
    "- Perform a similar investigation for the underrepresented clusters. Which cluster or clusters are underrepresented in the customer dataset compared to the general population, and what kinds of people are typified by these clusters?"
   ]
  },
  {
   "cell_type": "code",
   "execution_count": 59,
   "metadata": {},
   "outputs": [
    {
     "data": {
      "image/png": "[encoded data removed]",
      "text/plain": [
       "<Figure size 432x288 with 1 Axes>"
      ]
     },
     "metadata": {
      "needs_background": "light"
     },
     "output_type": "display_data"
    }
   ],
   "source": [
    "# Compare the proportion of data in each cluster for the customer data to the\n",
    "# proportion of data in each cluster for the general population.\n",
    "compdat = pd.DataFrame(data=[('general_pop',lbl) for lbl in azdias_clusters]+[('customers',lbl) for lbl in customer_clusters],\n",
    "                      columns=['group','cluster'])\n",
    "ratio_data = compdat.groupby('group')['cluster'].value_counts(normalize=True, sort=False).rename('proportion').to_frame().reset_index()\n",
    "\n",
    "ax = sns.barplot(x='cluster', y='proportion', hue='group', data=ratio_data)"
   ]
  },
  {
   "cell_type": "markdown",
   "metadata": {},
   "source": [
    "**Customer OVER represented**  Cluster 2 is largely over-represented, while clusters 0 and 3 are close, but still slightly higher for customers.  \n",
    "**Customer UNDER represented** Clusters 1 and 7 are largely under-represented, with cluster 6 slightly under."
   ]
  },
  {
   "cell_type": "code",
   "execution_count": 85,
   "metadata": {},
   "outputs": [
    {
     "name": "stdout",
     "output_type": "stream",
     "text": [
      "ALTERSKATEGORIE_GROB 4\n",
      "ANREDE_KZ 1\n",
      "FINANZ_MINIMALIST 5\n",
      "FINANZ_SPARER 1\n",
      "FINANZ_VORSORGER 5\n",
      "FINANZ_ANLEGER 1\n",
      "FINANZ_UNAUFFAELLIGER 2\n",
      "FINANZ_HAUSBAUER 2\n",
      "GREEN_AVANTGARDE 1\n",
      "HEALTH_TYP 2\n",
      "RETOURTYP_BK_S 5\n",
      "SEMIO_SOZ 5\n",
      "SEMIO_FAM 4\n",
      "SEMIO_REL 3\n",
      "SEMIO_MAT 3\n",
      "SEMIO_VERT 6\n",
      "SEMIO_LUST 7\n",
      "SEMIO_ERL 4\n",
      "SEMIO_KULT 4\n",
      "SEMIO_RAT 2\n",
      "SEMIO_KRIT 3\n",
      "SEMIO_DOM 3\n",
      "SEMIO_KAEM 3\n",
      "SEMIO_PFLICHT 3\n",
      "SEMIO_TRADV 3\n",
      "VERS_TYP 1\n",
      "ANZ_PERSONEN 2\n",
      "HH_EINKOMMEN_SCORE 2\n",
      "W_KEIT_KIND_HH 5\n",
      "WOHNDAUER_2008 9\n",
      "ANZ_HAUSHALTE_AKTIV 1\n",
      "KONSUMNAEHE 3\n",
      "MIN_GEBAEUDEJAHR 1992\n",
      "OST_WEST_KZ 1\n",
      "KBA05_ANTG1 3\n",
      "KBA05_ANTG2 1\n",
      "KBA05_GBZ 4\n",
      "BALLRAUM 4\n",
      "EWDICHTE 4\n",
      "INNENSTADT 5\n",
      "GEBAEUDETYP_RASTER 4\n",
      "KKK 2\n",
      "MOBI_REGIO 4\n",
      "ONLINE_AFFINITAET 3\n",
      "REGIOTYP 3\n",
      "KBA13_ANZAHL_PKW 638\n",
      "PLZ8_ANTG1 3\n",
      "PLZ8_ANTG2 3\n",
      "PLZ8_ANTG3 1\n",
      "PLZ8_BAUMAX 1\n",
      "PLZ8_HHZ 4\n",
      "PLZ8_GBZ 4\n",
      "ARBEIT 3\n",
      "ORTSGR_KLS9 5\n",
      "RELAT_AB 3\n",
      "LP_STATUS_FEIN_10.0 1\n",
      "NATIONALITAET_KZ_1.0 1\n",
      "ZABEOTYP_1 1\n",
      "GEBAEUDETYP_1.0 1\n",
      "WEALTH 0\n",
      "LIFE_STAGE 4\n"
     ]
    }
   ],
   "source": [
    "# What kinds of people are part of a cluster that is overrepresented in the\n",
    "# customer data compared to the general population?\n",
    "cust_scaled = cust_scaled.assign(cluster=customer_clusters)\n",
    "profile02 = cust_scaled[cust_scaled.cluster==2].median()\n",
    "\n",
    "for col in profile02.index.values:\n",
    "    if col in cust_scalers.keys():\n",
    "        val = cust_scalers[col].inverse_transform([profile02[col]])\n",
    "        if val > 0.1:\n",
    "            print(col, int(val[0]))"
   ]
  },
  {
   "cell_type": "markdown",
   "metadata": {},
   "source": [
    "Median unscaled values for cluster 2 customers.  Rather than doing a lot of reverse translation, I just assigned the cluster labels to the original (scaled) dataset and went backward from there."
   ]
  },
  {
   "cell_type": "code",
   "execution_count": 86,
   "metadata": {},
   "outputs": [],
   "source": [
    "# What kinds of people are part of a cluster that is underrepresented in the\n",
    "# customer data compared to the general population?\n",
    "# Looked at cluster 2 only, since it has the largest difference.  See 3.3 for explanation"
   ]
  },
  {
   "cell_type": "markdown",
   "metadata": {},
   "source": [
    "### Discussion 3.3: Compare Customer Data to Demographics Data\n",
    "\n",
    "**Customer OVER represented**  Cluster 2 is largely over-represented, while clusters 0 and 3 are close, but still slightly higher for customers.  \n",
    "**Customer UNDER represented** Clusters 1 and 7 are largely under-represented, with cluster 6 slightly under.\n",
    "\n",
    "\n",
    "**Cluster 2 quick type:**  Wealthy retired couples living in single-family homes in the suburbs.\n",
    "\n",
    "#### Cluster 2 broken down to characterise the customer demographic as: ####\n",
    "* personal traits\n",
    "    * German males > 60 years; mature couples\n",
    "    * Highly rational, dominant, critical minded, combative, dutiful, materialistic and religious\n",
    "    * High online affinity, 'green' energy consumption patterns\n",
    "* home\n",
    "    * Suburban single family home\n",
    "    * Living at residence for > 10 years\n",
    "    * Wealthy households\n",
    "* Community and area\n",
    "    * upper middle class neighborhood formerly in West Germany\n",
    "    * Residential areas < 40 Km from nearest urban center\n",
    "    * In a community of 20,000 to 50,000 people"
   ]
  },
  {
   "cell_type": "markdown",
   "metadata": {},
   "source": [
    "> Congratulations on making it this far in the project! Before you finish, make sure to check through the entire notebook from top to bottom to make sure that your analysis follows a logical flow and all of your findings are documented in **Discussion** cells. Once you've checked over all of your work, you should export the notebook as an HTML document to submit for evaluation. You can do this from the menu, navigating to **File -> Download as -> HTML (.html)**. You will submit both that document and this notebook for your project submission."
   ]
  },
  {
   "cell_type": "code",
   "execution_count": null,
   "metadata": {},
   "outputs": [],
   "source": []
  }
 ],
 "metadata": {
  "kernelspec": {
   "display_name": "Python [conda env:identify_customer_segments]",
   "language": "python",
   "name": "conda-env-identify_customer_segments-py"
  },
  "language_info": {
   "codemirror_mode": {
    "name": "ipython",
    "version": 3
   },
   "file_extension": ".py",
   "mimetype": "text/x-python",
   "name": "python",
   "nbconvert_exporter": "python",
   "pygments_lexer": "ipython3",
   "version": "3.6.6"
  }
 },
 "nbformat": 4,
 "nbformat_minor": 2
}
